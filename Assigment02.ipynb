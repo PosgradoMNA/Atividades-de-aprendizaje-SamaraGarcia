{
  "nbformat": 4,
  "nbformat_minor": 0,
  "metadata": {
    "colab": {
      "provenance": [],
      "include_colab_link": true
    },
    "kernelspec": {
      "name": "python3",
      "display_name": "Python 3"
    },
    "language_info": {
      "name": "python"
    }
  },
  "cells": [
    {
      "cell_type": "markdown",
      "metadata": {
        "id": "view-in-github",
        "colab_type": "text"
      },
      "source": [
        "<a href=\"https://colab.research.google.com/github/PosgradoMNA/Atividades-de-aprendizaje-SamaraGarcia/blob/main/Assigment02.ipynb\" target=\"_parent\"><img src=\"https://colab.research.google.com/assets/colab-badge.svg\" alt=\"Open In Colab\"/></a>"
      ]
    },
    {
      "cell_type": "markdown",
      "source": [
        "**Módulo 4**\n",
        "\n",
        "---\n",
        "\n"
      ],
      "metadata": {
        "id": "GHViqOQYSomN"
      }
    },
    {
      "cell_type": "markdown",
      "source": [
        "Actividad 2 Python\n",
        "Samara García González\n",
        "A0123001"
      ],
      "metadata": {
        "id": "5tOq_hDPieAV"
      }
    },
    {
      "cell_type": "code",
      "source": [
        "#Módulo 4\n",
        "#Reading files with open\n",
        "#Writing files with open\n",
        "#Loading data with Pandas\n",
        "#Working with and Saving data with Pandas"
      ],
      "metadata": {
        "id": "Ib-CUNnMXqSK"
      },
      "execution_count": null,
      "outputs": []
    },
    {
      "cell_type": "markdown",
      "source": [
        "**Reading files with Open**"
      ],
      "metadata": {
        "id": "DdLlMaPpYXI7"
      }
    },
    {
      "cell_type": "code",
      "source": [
        "#With this open function we can obtain data from a text file for example:\n",
        "# File 1 = open(\"/resources/data/Example2.txt, \"w\")\n",
        "#we only need to declare the open function, followed by the path of the text file in our PC\n",
        "#If we use the with statement netx to the open function, it automatically closes the file at the end of the indent\n",
        "#With the statement readlines we can output every line in a list, we can usea loop to print every line"
      ],
      "metadata": {
        "id": "tcHBEKVOYNqT"
      },
      "execution_count": null,
      "outputs": []
    },
    {
      "cell_type": "code",
      "source": [
        "\n",
        "#Downloading the file (I couldn´t do it like it said in the lab file but it still worked)\n",
        "import requests\n",
        "url = \"https://cf-courses-data.s3.us.cloud-object-storage.appdomain.cloud/IBMDeveloperSkillsNetwork-PY0101EN-SkillsNetwork/labs/Module%204/data/example1.txt\"\n",
        "myfile = requests.get(url)\n",
        "open('downloads', 'wb').write(myfile.content)\n",
        "\n"
      ],
      "metadata": {
        "colab": {
          "base_uri": "https://localhost:8080/"
        },
        "id": "-xHtPMNbaAy8",
        "outputId": "ce6a18e4-6aeb-46dd-e9bc-0cb32d0518ae"
      },
      "execution_count": null,
      "outputs": [
        {
          "output_type": "execute_result",
          "data": {
            "text/plain": [
              "45"
            ]
          },
          "metadata": {},
          "execution_count": 17
        }
      ]
    },
    {
      "cell_type": "code",
      "source": [
        "#Reading the file\n",
        "example1 = \"Example1.txt\"\n",
        "file1 = open(example1, \"r\")\n"
      ],
      "metadata": {
        "id": "DyLWA9qPggrt"
      },
      "execution_count": null,
      "outputs": []
    },
    {
      "cell_type": "code",
      "source": [
        "#Printing the name of the file \n",
        "file1.name"
      ],
      "metadata": {
        "colab": {
          "base_uri": "https://localhost:8080/",
          "height": 36
        },
        "id": "PKs2e1ZCg0M8",
        "outputId": "6ffb0672-3d26-48ca-fde5-83188e5a5617"
      },
      "execution_count": null,
      "outputs": [
        {
          "output_type": "execute_result",
          "data": {
            "text/plain": [
              "'Example3.txt'"
            ],
            "application/vnd.google.colaboratory.intrinsic+json": {
              "type": "string"
            }
          },
          "metadata": {},
          "execution_count": 21
        }
      ]
    },
    {
      "cell_type": "code",
      "source": [
        "#Printing the mode of file write or read\n",
        "file1.mode"
      ],
      "metadata": {
        "colab": {
          "base_uri": "https://localhost:8080/",
          "height": 36
        },
        "id": "6dM50kZNhDSN",
        "outputId": "da70106b-c271-4457-ff03-bbfd3e785933"
      },
      "execution_count": null,
      "outputs": [
        {
          "output_type": "execute_result",
          "data": {
            "text/plain": [
              "'r'"
            ],
            "application/vnd.google.colaboratory.intrinsic+json": {
              "type": "string"
            }
          },
          "metadata": {},
          "execution_count": 28
        }
      ]
    },
    {
      "cell_type": "code",
      "source": [
        "#Reading the file\n",
        "\n",
        "FileContent = file1.read()\n",
        "FileContent"
      ],
      "metadata": {
        "colab": {
          "base_uri": "https://localhost:8080/",
          "height": 36
        },
        "id": "PgXkL_8OhNY4",
        "outputId": "c0d6150f-74e4-44ac-ff4d-dec52e6c5866"
      },
      "execution_count": null,
      "outputs": [
        {
          "output_type": "execute_result",
          "data": {
            "text/plain": [
              "'This is line 1 \\nThis is line 2\\nThis is line 3'"
            ],
            "application/vnd.google.colaboratory.intrinsic+json": {
              "type": "string"
            }
          },
          "metadata": {},
          "execution_count": 29
        }
      ]
    },
    {
      "cell_type": "code",
      "source": [
        "#Giving space between every line of the text file\n",
        "print(FileContent)"
      ],
      "metadata": {
        "colab": {
          "base_uri": "https://localhost:8080/"
        },
        "id": "dbdzIu0rhSJ9",
        "outputId": "c60ea580-add2-49de-ff79-a53effea1949"
      },
      "execution_count": null,
      "outputs": [
        {
          "output_type": "stream",
          "name": "stdout",
          "text": [
            "This is line 1 \n",
            "This is line 2\n",
            "This is line 3\n"
          ]
        }
      ]
    },
    {
      "cell_type": "code",
      "source": [
        "#Returning the type of data of the file\n",
        "type(FileContent)"
      ],
      "metadata": {
        "colab": {
          "base_uri": "https://localhost:8080/"
        },
        "id": "p7T92X_jhYqh",
        "outputId": "afa8fca2-c929-4354-d61c-e3f73d70d68b"
      },
      "execution_count": null,
      "outputs": [
        {
          "output_type": "execute_result",
          "data": {
            "text/plain": [
              "str"
            ]
          },
          "metadata": {},
          "execution_count": 32
        }
      ]
    },
    {
      "cell_type": "code",
      "source": [
        "#Closing the file\n",
        "file1.close()"
      ],
      "metadata": {
        "id": "vk4ymeaAhgtu"
      },
      "execution_count": null,
      "outputs": []
    },
    {
      "cell_type": "code",
      "source": [
        "#Using with to automatically closing the file \n",
        "\n",
        "with open(example1, \"r\") as file1:\n",
        "    FileContent = file1.read()\n",
        "    print(FileContent)"
      ],
      "metadata": {
        "colab": {
          "base_uri": "https://localhost:8080/"
        },
        "id": "PCoJCdqahkmG",
        "outputId": "ac6e2228-16ec-4178-b739-620e88da683d"
      },
      "execution_count": null,
      "outputs": [
        {
          "output_type": "stream",
          "name": "stdout",
          "text": [
            "This is line 1 \n",
            "This is line 2\n",
            "This is line 3\n"
          ]
        }
      ]
    },
    {
      "cell_type": "code",
      "source": [
        "#Now we can verufy if the file is closed \n",
        "file1.closed"
      ],
      "metadata": {
        "colab": {
          "base_uri": "https://localhost:8080/"
        },
        "id": "SlSmDjfEhrFm",
        "outputId": "91544587-c138-4622-ef1b-611596bb9ac6"
      },
      "execution_count": null,
      "outputs": [
        {
          "output_type": "execute_result",
          "data": {
            "text/plain": [
              "True"
            ]
          },
          "metadata": {},
          "execution_count": 36
        }
      ]
    },
    {
      "cell_type": "code",
      "source": [
        "#See the content of the file\n",
        "print(FileContent)"
      ],
      "metadata": {
        "colab": {
          "base_uri": "https://localhost:8080/"
        },
        "id": "DZHUrg3oh1c0",
        "outputId": "4ae74bf8-509d-45b6-e01e-1f5821d63be2"
      },
      "execution_count": null,
      "outputs": [
        {
          "output_type": "stream",
          "name": "stdout",
          "text": [
            "This is line 1 \n",
            "This is line 2\n",
            "This is line 3\n"
          ]
        }
      ]
    },
    {
      "cell_type": "code",
      "source": [
        "#If we use the index, we can read specific characters\n",
        "# Read first four characters\n",
        "\n",
        "with open(example1, \"r\") as file1:\n",
        "    print(file1.read(4))"
      ],
      "metadata": {
        "colab": {
          "base_uri": "https://localhost:8080/"
        },
        "id": "ByyCvkY-h63z",
        "outputId": "cba94c5e-b35b-4904-a7f1-67f4a5103796"
      },
      "execution_count": null,
      "outputs": [
        {
          "output_type": "stream",
          "name": "stdout",
          "text": [
            "This\n"
          ]
        }
      ]
    },
    {
      "cell_type": "code",
      "source": [
        "with open(example1, \"r\") as file1:\n",
        "    print(file1.read(4))\n",
        "    print(file1.read(5))\n",
        "    print(file1.read(7))\n",
        "    print(file1.read(15))"
      ],
      "metadata": {
        "colab": {
          "base_uri": "https://localhost:8080/"
        },
        "id": "vNAiYY46jNcn",
        "outputId": "476b6c96-0034-417c-85c7-f067842a9522"
      },
      "execution_count": null,
      "outputs": [
        {
          "output_type": "stream",
          "name": "stdout",
          "text": [
            "This\n",
            " is l\n",
            "ine 1 \n",
            "\n",
            "This is line 2\n",
            "\n"
          ]
        }
      ]
    },
    {
      "cell_type": "code",
      "source": [
        "#Reading only the firts line \n",
        "with open(example1, \"r\") as file1:\n",
        "    print(\"first line: \" + file1.readline())"
      ],
      "metadata": {
        "colab": {
          "base_uri": "https://localhost:8080/"
        },
        "id": "8k1mr77PjqAm",
        "outputId": "42fa4b63-ce92-4bbc-d7d7-dc7e30a3fbbd"
      },
      "execution_count": null,
      "outputs": [
        {
          "output_type": "stream",
          "name": "stdout",
          "text": [
            "first line: This is line 1 \n",
            "\n"
          ]
        }
      ]
    },
    {
      "cell_type": "code",
      "source": [
        "#Reading all the lines and closing automatically \n",
        "with open(example1,\"r\") as file1:\n",
        "        i = 0;\n",
        "        for k in file1:\n",
        "            print(\"Cicle \", str(i), \": \", k)\n",
        "            i = i + 1"
      ],
      "metadata": {
        "colab": {
          "base_uri": "https://localhost:8080/"
        },
        "id": "ZBohQWCQjvWt",
        "outputId": "632574d1-6c2b-4c8d-d0e7-51fadd424169"
      },
      "execution_count": null,
      "outputs": [
        {
          "output_type": "stream",
          "name": "stdout",
          "text": [
            "Cicle  0 :  This is line 1 \n",
            "\n",
            "Cicle  1 :  This is line 2\n",
            "\n",
            "Cicle  2 :  This is line 3\n"
          ]
        }
      ]
    },
    {
      "cell_type": "code",
      "source": [
        "#Save the lines as a list \n",
        "with open(example1, \"r\") as file1:\n",
        "    List1 = file1.readlines()\n",
        "    print(List1)"
      ],
      "metadata": {
        "colab": {
          "base_uri": "https://localhost:8080/"
        },
        "id": "qzeW3hQej_PM",
        "outputId": "8ed09784-d3e7-451a-8a12-198db87b0913"
      },
      "execution_count": null,
      "outputs": [
        {
          "output_type": "stream",
          "name": "stdout",
          "text": [
            "['This is line 1 \\n', 'This is line 2\\n', 'This is line 3']\n"
          ]
        }
      ]
    },
    {
      "cell_type": "code",
      "source": [
        "#Print specific line\n",
        "List1[2]"
      ],
      "metadata": {
        "colab": {
          "base_uri": "https://localhost:8080/",
          "height": 36
        },
        "id": "i3uIKH_3kP2M",
        "outputId": "90863406-b666-40b1-8fb4-dd177ad68330"
      },
      "execution_count": null,
      "outputs": [
        {
          "output_type": "execute_result",
          "data": {
            "text/plain": [
              "'This is line 3'"
            ],
            "application/vnd.google.colaboratory.intrinsic+json": {
              "type": "string"
            }
          },
          "metadata": {},
          "execution_count": 47
        }
      ]
    },
    {
      "cell_type": "code",
      "source": [
        "List1[0]"
      ],
      "metadata": {
        "colab": {
          "base_uri": "https://localhost:8080/",
          "height": 36
        },
        "id": "CWifwXEqkYFC",
        "outputId": "d01c5a8c-7f37-46e2-dbaf-bff6d12fd829"
      },
      "execution_count": null,
      "outputs": [
        {
          "output_type": "execute_result",
          "data": {
            "text/plain": [
              "'This is line 1 \\n'"
            ],
            "application/vnd.google.colaboratory.intrinsic+json": {
              "type": "string"
            }
          },
          "metadata": {},
          "execution_count": 49
        }
      ]
    },
    {
      "cell_type": "markdown",
      "source": [
        "**Writing files with open**\n",
        "\n",
        "---\n",
        "\n"
      ],
      "metadata": {
        "id": "4Hv0kaQ6ZrXk"
      }
    },
    {
      "cell_type": "code",
      "source": [
        "#File object \n",
        "#File1 = open (\"/resources/data/Example2.txt\", \"w\") as file 1\n",
        "#As we can see here we have a w instead of a r for write \n",
        "#Read\n",
        "  with open (\"Example1.txt\", \"r\")\n",
        "#Write\n",
        "  with open (\"Example1.txt\", \"w\")"
      ],
      "metadata": {
        "id": "Qtj5BhQ_ZvkF"
      },
      "execution_count": null,
      "outputs": []
    },
    {
      "cell_type": "code",
      "source": [
        "#with open(\"Example1.txt\",\"r\")as readfile:\n",
        "  #with open(\"Example3.txt\", \"w\") as writefile:\n",
        "    #for line in readfiles:\n",
        "      #writefile.write(line)"
      ],
      "metadata": {
        "id": "TGmpybDKa6AA"
      },
      "execution_count": null,
      "outputs": []
    },
    {
      "cell_type": "code",
      "source": [
        "# Write line to file example 2\n",
        "exmp2 = 'Example2.txt'\n",
        "with open(exmp2, 'w') as writefile:\n",
        "    writefile.write(\"This is line SAM\")"
      ],
      "metadata": {
        "id": "6CsuDm2Ub-Li"
      },
      "execution_count": null,
      "outputs": []
    },
    {
      "cell_type": "code",
      "source": [
        "# Read file example2\n",
        "\n",
        "with open(exmp2, 'r') as testwritefile:\n",
        "    print(testwritefile.read())"
      ],
      "metadata": {
        "colab": {
          "base_uri": "https://localhost:8080/"
        },
        "id": "s85lGfb3cCyE",
        "outputId": "ab62ab3e-ba38-4e3f-eaca-6cc756e77a3a"
      },
      "execution_count": null,
      "outputs": [
        {
          "output_type": "stream",
          "name": "stdout",
          "text": [
            "This is line SAM\n"
          ]
        }
      ]
    },
    {
      "cell_type": "code",
      "source": [
        "#writing multiple lines\n",
        "\n",
        "with open(exmp2, 'w') as writefile:\n",
        "    writefile.write(\"Esta es la linea 1 SAM\\n\")\n",
        "    writefile.write(\"Esta es la linea 2 SAM\\n\")\n",
        "    "
      ],
      "metadata": {
        "id": "KLu5q1rncK5I"
      },
      "execution_count": null,
      "outputs": []
    },
    {
      "cell_type": "code",
      "source": [
        "#Reading the example 2\n",
        "with open(exmp2, 'r') as testwritefile:\n",
        "    print(testwritefile.read())"
      ],
      "metadata": {
        "colab": {
          "base_uri": "https://localhost:8080/"
        },
        "id": "GTO6qaoCcruA",
        "outputId": "deeeb6e1-9a62-4575-b272-17d8fab27c0d"
      },
      "execution_count": null,
      "outputs": [
        {
          "output_type": "stream",
          "name": "stdout",
          "text": [
            "Esta es la linea 1 SAM\n",
            "Esta es la linea 2 SAM\n",
            "\n"
          ]
        }
      ]
    },
    {
      "cell_type": "markdown",
      "source": [
        "**Appending files**\n",
        "\n",
        "---\n",
        "\n"
      ],
      "metadata": {
        "id": "Zy4GnoUKdb_y"
      }
    },
    {
      "cell_type": "code",
      "source": [
        "#Writing new line to text file \n",
        "with open('Example2.txt', 'a') as testwritefile1:\n",
        "    testwritefile1.write(\"Esta es la linea 3\\n\")\n",
        "    testwritefile1.write(\"Esta es la linea 4\\n\")\n",
        "    testwritefile1.write(\"Esta es la linea 5\\n\")\n"
      ],
      "metadata": {
        "id": "9fZlE9vcdhW7"
      },
      "execution_count": null,
      "outputs": []
    },
    {
      "cell_type": "code",
      "source": [
        "#Reading \n",
        "with open('Example2.txt', 'r') as testwritefile1:\n",
        "    print(testwritefile1.read())"
      ],
      "metadata": {
        "colab": {
          "base_uri": "https://localhost:8080/"
        },
        "id": "UIlHuyNKeB71",
        "outputId": "a678fccb-b2fc-4370-f9fb-4a6e416f35d2"
      },
      "execution_count": null,
      "outputs": [
        {
          "output_type": "stream",
          "name": "stdout",
          "text": [
            "Esta es la linea 1 SAM\n",
            "Esta es la linea 2 SAM\n",
            "Esta es la linea 3\n",
            "Esta es la linea 4\n",
            "Esta es la linea 5\n",
            "Esta es la linea 3\n",
            "Esta es la linea 4\n",
            "Esta es la linea 5\n",
            "Esta es la linea 3\n",
            "Esta es la linea 4\n",
            "Esta es la linea 5\n",
            "\n"
          ]
        }
      ]
    },
    {
      "cell_type": "code",
      "source": [
        "#r+ : Reading and writing. Cannot truncate the file.\n",
        "#w+ : Writing and reading. Truncates the file.\n",
        "#a+ : Appending and Reading. Creates a new file, if none exists."
      ],
      "metadata": {
        "id": "oKAZmbjqeM3G"
      },
      "execution_count": null,
      "outputs": []
    },
    {
      "cell_type": "code",
      "source": [
        "#Here we can see there is no output\n",
        "with open('Example2.txt', 'a+') as testwritefile:\n",
        "    testwritefile.write(\"This is line E\\n\")\n",
        "    print(testwritefile.read())"
      ],
      "metadata": {
        "colab": {
          "base_uri": "https://localhost:8080/"
        },
        "id": "x7bY7kDjeP66",
        "outputId": "6ee563e4-b14f-4a44-ed6e-f7a8f7194da3"
      },
      "execution_count": null,
      "outputs": [
        {
          "output_type": "stream",
          "name": "stdout",
          "text": [
            "\n"
          ]
        }
      ]
    },
    {
      "cell_type": "code",
      "source": [
        "#Reading the new line \n",
        "with open('Example2.txt', 'r') as testwritefile:\n",
        "    print(testwritefile.read())"
      ],
      "metadata": {
        "id": "HD0Ab1LhFger",
        "outputId": "535cca3f-e135-4843-d6e8-c1e8826dd90a",
        "colab": {
          "base_uri": "https://localhost:8080/"
        }
      },
      "execution_count": null,
      "outputs": [
        {
          "output_type": "stream",
          "name": "stdout",
          "text": [
            "This is line E\n",
            "\n"
          ]
        }
      ]
    },
    {
      "cell_type": "markdown",
      "source": [
        "**Additional modes**\n",
        "\n",
        "---\n",
        "\n"
      ],
      "metadata": {
        "id": "OZFvBslRFoWo"
      }
    },
    {
      "cell_type": "code",
      "source": [
        "#a+ : Appending and Reading. Creates a new file, if none exists.\n",
        "with open('Example2.txt', 'a+') as testwritefile:\n",
        "    testwritefile.write(\"This is line E\\n\")\n",
        "    print(testwritefile.read())\n",
        "#There is no error but no response either because Most of the file methods we've looked at work in a certain location in the file. .write()  writes at a certain location in the file. .read() reads at a certain location in the file and so on. "
      ],
      "metadata": {
        "id": "HuXRxgwzFsg9",
        "outputId": "e0433904-d83b-427c-aeb1-c39c06e593bc",
        "colab": {
          "base_uri": "https://localhost:8080/"
        }
      },
      "execution_count": null,
      "outputs": [
        {
          "output_type": "stream",
          "name": "stdout",
          "text": [
            "\n"
          ]
        }
      ]
    },
    {
      "cell_type": "code",
      "source": [
        "#r+ : Reading and writing. Cannot truncate the file.\n",
        "with open('Example2.txt', 'r+') as testwritefile:\n",
        "    data = testwritefile.readlines()\n",
        "    testwritefile.seek(0,0) #WRITE AT THE BEGGINING OF THE TEXT FILE "
      ],
      "metadata": {
        "id": "Ad0_Y8PXGZHh"
      },
      "execution_count": null,
      "outputs": []
    },
    {
      "cell_type": "code",
      "source": [
        "#w+ : Writing and reading. Truncates the file.\n",
        "with open('Example2.txt', 'w') as writefile:\n",
        "    writefile.write(\"SOBREESCRIBIENDO\\n\")\n",
        "with open('Example2.txt', 'r') as testwritefile:\n",
        "    print(testwritefile.read())"
      ],
      "metadata": {
        "id": "3gLq7lFpG8SM",
        "outputId": "4eb4d786-7cdc-479d-bc27-fefb22215a3e",
        "colab": {
          "base_uri": "https://localhost:8080/"
        }
      },
      "execution_count": null,
      "outputs": [
        {
          "output_type": "stream",
          "name": "stdout",
          "text": [
            "SOBREESCRIBIENDO\n",
            "\n"
          ]
        }
      ]
    },
    {
      "cell_type": "code",
      "source": [
        "#Copy a file \n",
        "with open('Example2.txt','r') as readfile:\n",
        "    with open('Example3.txt','w') as writefile:\n",
        "          for line in readfile:\n",
        "                writefile.write(line)"
      ],
      "metadata": {
        "id": "HrGRsXIbHWQ9"
      },
      "execution_count": null,
      "outputs": []
    },
    {
      "cell_type": "code",
      "source": [
        "with open('Example3.txt','r') as testwritefile:\n",
        "    print(testwritefile.read())"
      ],
      "metadata": {
        "id": "Yp-XWFHSHcRM",
        "outputId": "4716f4df-82e7-461b-ce8d-bcb159a96a9d",
        "colab": {
          "base_uri": "https://localhost:8080/"
        }
      },
      "execution_count": null,
      "outputs": [
        {
          "output_type": "stream",
          "name": "stdout",
          "text": [
            "SOBREESCRIBIENDO\n",
            "\n"
          ]
        }
      ]
    },
    {
      "cell_type": "code",
      "source": [
        "#Exercise :"
      ],
      "metadata": {
        "id": "b71hg7i8J9Oa"
      },
      "execution_count": null,
      "outputs": []
    },
    {
      "cell_type": "code",
      "source": [
        "from random import randint as rnd\n",
        "\n",
        "memReg = 'members.txt'\n",
        "exReg = 'inactive.txt'\n",
        "fee =('yes','no')\n",
        "\n",
        "def genFiles(current,old):\n",
        "    with open(current,'w+') as writefile: \n",
        "        writefile.write('MIEMBROS   FECHA DE UNION   ACTIVOS  \\n')\n",
        "        data = \"{:^13}  {:<11}  {:<6}\\n\"\n",
        "\n",
        "        for rowno in range(20):\n",
        "            date = str(rnd(2015,2020))+ '-' + str(rnd(1,12))+'-'+str(rnd(1,25))\n",
        "            writefile.write(data.format(rnd(10000,99999),date,fee[rnd(0,1)]))\n",
        "\n",
        "\n",
        "    with open(old,'w+') as writefile: \n",
        "        writefile.write('MIEMBROS   FECHA DE UNION   ACTIVOS  \\n')\n",
        "        data = \"{:^13}  {:<11}  {:<6}\\n\"\n",
        "        for rowno in range(3):\n",
        "            date = str(rnd(2015,2020))+ '-' + str(rnd(1,12))+'-'+str(rnd(1,25))\n",
        "            writefile.write(data.format(rnd(10000,99999),date,fee[1]))\n",
        "\n",
        "\n",
        "genFiles(memReg,exReg)\n",
        "\n",
        "def cleanFiles(currentMem,exMem):\n",
        "    with open(currentMem,'r+') as writeFile: \n",
        "        with open(exMem,'a+') as appendFile:\n",
        "#OBTENIENDO LOS DATOS\n",
        "            writeFile.seek(0)\n",
        "            members = writeFile.readlines()\n",
        "#QUITANDO EL HEADER\n",
        "            header = members[0]\n",
        "            members.pop(0)\n",
        "                \n",
        "            inactive = [member for member in members if ('no' in member)]\n",
        "        \n",
        "       \n",
        "        \n",
        "#DIRIGIENDONOS AL INICIO DEL DOCUMENTP\n",
        "            writeFile.seek(0) \n",
        "            writeFile.write(header)\n",
        "            for member in members:\n",
        "                if (member in inactive):\n",
        "                    appendFile.write(member)\n",
        "                else:\n",
        "                    writeFile.write(member)      \n",
        "            writeFile.truncate()\n",
        "                \n",
        "    \n",
        "# SI EL MIEMBRO ES ACTIVO SE COLOCA EN UNA LISTA , SI NO , SE PONE EN LA OTRA LISTA\n",
        "\n",
        "# EL CODIGO DE ABAJO ES PROPORCIONADO POR LA PLATAFORMA \n",
        "memReg = 'members.txt'\n",
        "exReg = 'inactive.txt'\n",
        "cleanFiles(memReg,exReg)\n",
        "\n",
        "\n",
        "headers = \"MIEMBROS No  FECHA UNIDOS  ACTIVOS  \\n\"\n",
        "with open(memReg,'r') as readFile:\n",
        "    print(\"MIEMBROS ACTIVOS: \\n\\n\")\n",
        "    print(readFile.read())\n",
        "    \n",
        "with open(exReg,'r') as readFile:\n",
        "    print(\"MIEMBROS INACTIVOS: \\n\\n\")\n",
        "    print(readFile.read())"
      ],
      "metadata": {
        "id": "OsK5Lub5Kdo6",
        "outputId": "ae8e67ed-0892-4fa5-b457-9089842e4672",
        "colab": {
          "base_uri": "https://localhost:8080/"
        }
      },
      "execution_count": 47,
      "outputs": [
        {
          "output_type": "stream",
          "name": "stdout",
          "text": [
            "MIEMBROS ACTIVOS: \n",
            "\n",
            "\n",
            "MIEMBROS   FECHA DE UNION   ACTIVOS  \n",
            "    19797      2015-10-2    yes   \n",
            "    39160      2016-5-18    yes   \n",
            "    23874      2020-7-8     yes   \n",
            "    59433      2015-7-16    yes   \n",
            "    69176      2019-7-5     yes   \n",
            "    34900      2015-6-18    yes   \n",
            "    50030      2018-3-1     yes   \n",
            "    76347      2017-1-6     yes   \n",
            "    17111      2020-9-16    yes   \n",
            "    49537      2020-7-5     yes   \n",
            "\n",
            "MIEMBROS INACTIVOS: \n",
            "\n",
            "\n",
            "MIEMBROS   FECHA DE UNION   ACTIVOS  \n",
            "    51674      2019-11-16   no    \n",
            "    37277      2015-5-4     no    \n",
            "    41973      2020-1-17    no    \n",
            "    17425      2017-1-9     no    \n",
            "    17534      2016-2-21    no    \n",
            "    24087      2018-11-9    no    \n",
            "    65182      2018-10-6    no    \n",
            "    33481      2020-5-19    no    \n",
            "    71782      2017-9-10    no    \n",
            "    62449      2018-10-14   no    \n",
            "    34680      2018-11-2    no    \n",
            "    97252      2017-8-22    no    \n",
            "    58803      2016-9-8     no    \n",
            "\n"
          ]
        }
      ]
    },
    {
      "cell_type": "markdown",
      "source": [
        "**Loading data with pandas**\n",
        "\n",
        "---\n",
        "\n"
      ],
      "metadata": {
        "id": "eNBIDFqtp6Bf"
      }
    },
    {
      "cell_type": "code",
      "source": [
        "#PANDAS es una libreria popular para análisis de datos"
      ],
      "metadata": {
        "id": "EVPH7I2Sp-H1"
      },
      "execution_count": null,
      "outputs": []
    },
    {
      "cell_type": "code",
      "source": [
        "#Importando la librería \n",
        "import pandas as pd"
      ],
      "metadata": {
        "id": "NGEbqRDdqgs8"
      },
      "execution_count": null,
      "outputs": []
    },
    {
      "cell_type": "code",
      "source": [
        "#Leyendo un archivo CSV usando pandas con el método read, csv es un formato popular para data sets\n",
        "#cvs_path = \"file.csv\"\n",
        "#df= pd.read_csv(csv_path)"
      ],
      "metadata": {
        "id": "9tj7KJ_Cqk6z"
      },
      "execution_count": null,
      "outputs": []
    },
    {
      "cell_type": "code",
      "source": [
        "#Leyendo un archivo EXCEL usando pandas con el método read, csv es un formato popular para data sets\n",
        "#xlsx_path = \"file.xlsx\"\n",
        "#df= pd.read_excel(xlsx_path)"
      ],
      "metadata": {
        "id": "ub3qYR0QrF8A"
      },
      "execution_count": null,
      "outputs": []
    },
    {
      "cell_type": "code",
      "source": [
        "#Un dataframe es un arreglo de llaves y columnas, podemos crear nuestro propio datafream a partir de listas y diccionarios"
      ],
      "metadata": {
        "id": "_X68cvAHrf3E"
      },
      "execution_count": null,
      "outputs": []
    },
    {
      "cell_type": "code",
      "source": [
        "songs ={\"ALBUM\":[\"THRILLER\",\"BACK IN BLACK\", \"HELLO\"],\n",
        "        \"REALESED\": [1982,1980,1992],\n",
        "        \"LENGTH\": [\"00:42\",\"00:34\",\"00:57\"]}\n",
        "songs_frame = pd.DataFrame(songs)\n",
        "songs_frame"
      ],
      "metadata": {
        "id": "eJem51TEsFhQ",
        "outputId": "987c5be5-38f6-4eae-9d5f-2650e4c53f46",
        "colab": {
          "base_uri": "https://localhost:8080/",
          "height": 143
        }
      },
      "execution_count": null,
      "outputs": [
        {
          "output_type": "execute_result",
          "data": {
            "text/plain": [
              "           ALBUM  REALESED LENGTH\n",
              "0       THRILLER      1982  00:42\n",
              "1  BACK IN BLACK      1980  00:34\n",
              "2          HELLO      1992  00:57"
            ],
            "text/html": [
              "\n",
              "  <div id=\"df-233e7bdd-2317-4687-a1eb-ee6f788f7af5\">\n",
              "    <div class=\"colab-df-container\">\n",
              "      <div>\n",
              "<style scoped>\n",
              "    .dataframe tbody tr th:only-of-type {\n",
              "        vertical-align: middle;\n",
              "    }\n",
              "\n",
              "    .dataframe tbody tr th {\n",
              "        vertical-align: top;\n",
              "    }\n",
              "\n",
              "    .dataframe thead th {\n",
              "        text-align: right;\n",
              "    }\n",
              "</style>\n",
              "<table border=\"1\" class=\"dataframe\">\n",
              "  <thead>\n",
              "    <tr style=\"text-align: right;\">\n",
              "      <th></th>\n",
              "      <th>ALBUM</th>\n",
              "      <th>REALESED</th>\n",
              "      <th>LENGTH</th>\n",
              "    </tr>\n",
              "  </thead>\n",
              "  <tbody>\n",
              "    <tr>\n",
              "      <th>0</th>\n",
              "      <td>THRILLER</td>\n",
              "      <td>1982</td>\n",
              "      <td>00:42</td>\n",
              "    </tr>\n",
              "    <tr>\n",
              "      <th>1</th>\n",
              "      <td>BACK IN BLACK</td>\n",
              "      <td>1980</td>\n",
              "      <td>00:34</td>\n",
              "    </tr>\n",
              "    <tr>\n",
              "      <th>2</th>\n",
              "      <td>HELLO</td>\n",
              "      <td>1992</td>\n",
              "      <td>00:57</td>\n",
              "    </tr>\n",
              "  </tbody>\n",
              "</table>\n",
              "</div>\n",
              "      <button class=\"colab-df-convert\" onclick=\"convertToInteractive('df-233e7bdd-2317-4687-a1eb-ee6f788f7af5')\"\n",
              "              title=\"Convert this dataframe to an interactive table.\"\n",
              "              style=\"display:none;\">\n",
              "        \n",
              "  <svg xmlns=\"http://www.w3.org/2000/svg\" height=\"24px\"viewBox=\"0 0 24 24\"\n",
              "       width=\"24px\">\n",
              "    <path d=\"M0 0h24v24H0V0z\" fill=\"none\"/>\n",
              "    <path d=\"M18.56 5.44l.94 2.06.94-2.06 2.06-.94-2.06-.94-.94-2.06-.94 2.06-2.06.94zm-11 1L8.5 8.5l.94-2.06 2.06-.94-2.06-.94L8.5 2.5l-.94 2.06-2.06.94zm10 10l.94 2.06.94-2.06 2.06-.94-2.06-.94-.94-2.06-.94 2.06-2.06.94z\"/><path d=\"M17.41 7.96l-1.37-1.37c-.4-.4-.92-.59-1.43-.59-.52 0-1.04.2-1.43.59L10.3 9.45l-7.72 7.72c-.78.78-.78 2.05 0 2.83L4 21.41c.39.39.9.59 1.41.59.51 0 1.02-.2 1.41-.59l7.78-7.78 2.81-2.81c.8-.78.8-2.07 0-2.86zM5.41 20L4 18.59l7.72-7.72 1.47 1.35L5.41 20z\"/>\n",
              "  </svg>\n",
              "      </button>\n",
              "      \n",
              "  <style>\n",
              "    .colab-df-container {\n",
              "      display:flex;\n",
              "      flex-wrap:wrap;\n",
              "      gap: 12px;\n",
              "    }\n",
              "\n",
              "    .colab-df-convert {\n",
              "      background-color: #E8F0FE;\n",
              "      border: none;\n",
              "      border-radius: 50%;\n",
              "      cursor: pointer;\n",
              "      display: none;\n",
              "      fill: #1967D2;\n",
              "      height: 32px;\n",
              "      padding: 0 0 0 0;\n",
              "      width: 32px;\n",
              "    }\n",
              "\n",
              "    .colab-df-convert:hover {\n",
              "      background-color: #E2EBFA;\n",
              "      box-shadow: 0px 1px 2px rgba(60, 64, 67, 0.3), 0px 1px 3px 1px rgba(60, 64, 67, 0.15);\n",
              "      fill: #174EA6;\n",
              "    }\n",
              "\n",
              "    [theme=dark] .colab-df-convert {\n",
              "      background-color: #3B4455;\n",
              "      fill: #D2E3FC;\n",
              "    }\n",
              "\n",
              "    [theme=dark] .colab-df-convert:hover {\n",
              "      background-color: #434B5C;\n",
              "      box-shadow: 0px 1px 3px 1px rgba(0, 0, 0, 0.15);\n",
              "      filter: drop-shadow(0px 1px 2px rgba(0, 0, 0, 0.3));\n",
              "      fill: #FFFFFF;\n",
              "    }\n",
              "  </style>\n",
              "\n",
              "      <script>\n",
              "        const buttonEl =\n",
              "          document.querySelector('#df-233e7bdd-2317-4687-a1eb-ee6f788f7af5 button.colab-df-convert');\n",
              "        buttonEl.style.display =\n",
              "          google.colab.kernel.accessAllowed ? 'block' : 'none';\n",
              "\n",
              "        async function convertToInteractive(key) {\n",
              "          const element = document.querySelector('#df-233e7bdd-2317-4687-a1eb-ee6f788f7af5');\n",
              "          const dataTable =\n",
              "            await google.colab.kernel.invokeFunction('convertToInteractive',\n",
              "                                                     [key], {});\n",
              "          if (!dataTable) return;\n",
              "\n",
              "          const docLinkHtml = 'Like what you see? Visit the ' +\n",
              "            '<a target=\"_blank\" href=https://colab.research.google.com/notebooks/data_table.ipynb>data table notebook</a>'\n",
              "            + ' to learn more about interactive tables.';\n",
              "          element.innerHTML = '';\n",
              "          dataTable['output_type'] = 'display_data';\n",
              "          await google.colab.output.renderOutput(dataTable, element);\n",
              "          const docLink = document.createElement('div');\n",
              "          docLink.innerHTML = docLinkHtml;\n",
              "          element.appendChild(docLink);\n",
              "        }\n",
              "      </script>\n",
              "    </div>\n",
              "  </div>\n",
              "  "
            ]
          },
          "metadata": {},
          "execution_count": 24
        }
      ]
    },
    {
      "cell_type": "code",
      "source": [
        "#Accesasndo a elementos especificos\n",
        "\n",
        "songs_frame [0,0]:\"THRILLER\""
      ],
      "metadata": {
        "id": "4GZxm6JZtNUG"
      },
      "execution_count": null,
      "outputs": []
    },
    {
      "cell_type": "code",
      "source": [
        "#Accesando a la primer fila de la columna ALBUM como se muestra:\n",
        "songs_frame [0,\"ALBUM\"]:\"THRILLER\""
      ],
      "metadata": {
        "id": "MvZyUXf9tpgI"
      },
      "execution_count": null,
      "outputs": []
    },
    {
      "cell_type": "markdown",
      "source": [
        "**Working and saving data with PANDAS**\n",
        "\n",
        "---\n",
        "\n"
      ],
      "metadata": {
        "id": "oL7-UhBzumcD"
      }
    },
    {
      "cell_type": "code",
      "source": [
        "#Cuando tenemos un dataframe podemos trabajar con los datos y guardar el resultado en otros formatos"
      ],
      "metadata": {
        "id": "vfGCHTVJuv32"
      },
      "execution_count": null,
      "outputs": []
    },
    {
      "cell_type": "code",
      "source": [
        "#Para trabajar con los datos, pandas cuenta con diferentes métodos."
      ],
      "metadata": {
        "id": "OclnrsXUVpvW"
      },
      "execution_count": null,
      "outputs": []
    },
    {
      "cell_type": "markdown",
      "source": [
        "**Método unique**\n",
        "\n",
        "---\n",
        "\n"
      ],
      "metadata": {
        "id": "fNgyy3aeWAK0"
      }
    },
    {
      "cell_type": "code",
      "source": [
        "#Pandas tiene el método único para determinar los elementos únicos en una columna de un marco de datos.\n",
        "df1=df['Realeaser'].unique()\n",
        "#Podriamos guardar esos datos en un nuevo dataframe y posteriormente gusrdarlo en xformato\n",
        "df1.to_csv('new_songes.csv')\n",
        "#Existen otras funciones para guardar los archivos en otros formatos"
      ],
      "metadata": {
        "id": "pzlQmdA6WRNq"
      },
      "execution_count": null,
      "outputs": []
    },
    {
      "cell_type": "code",
      "source": [
        "#Leyendo data de un archivo CSV\n",
        "# csv_path = 'https://cf-courses-data.s3.us.cloud-object-storage.appdomain.cloud/IBMDeveloperSkillsNetwork-PY0101EN-SkillsNetwork/labs/Module%204/data/TopSellingAlbums.csv'\n",
        "# df = pd.read_csv(csv_path)\n",
        "from pyodide.http import pyfetch\n",
        "import pandas as pd\n",
        "\n",
        "filename = \"https://cf-courses-data.s3.us.cloud-object-storage.appdomain.cloud/IBMDeveloperSkillsNetwork-PY0101EN-SkillsNetwork/labs/Module%204/data/TopSellingAlbums.csv\"\n",
        "\n",
        "async def download(url, filename):\n",
        "    response = await pyfetch(url)\n",
        "    if response.status == 200:\n",
        "        with open(filename, \"wb\") as f:\n",
        "            f.write(await response.bytes())\n",
        "\n",
        "await download(filename, \"TopSellingAlbums.csv\")\n",
        "df = pd.read_csv(\"TopSellingAlbums.csv\")"
      ],
      "metadata": {
        "id": "IevJS9DuXsfU"
      },
      "execution_count": 35,
      "outputs": []
    },
    {
      "cell_type": "code",
      "source": [
        "#Imprimiendo las primeras filas del dataframe\n",
        "df.head()"
      ],
      "metadata": {
        "id": "fEFfPQDve6-F"
      },
      "execution_count": null,
      "outputs": []
    },
    {
      "cell_type": "code",
      "source": [
        "# Leyendo datos de excel y mostrando las primeras 5 filas\n",
        "xlsx_path = 'https://s3-api.us-geo.objectstorage.softlayer.net/cf-courses-data/CognitiveClass/PY0101EN/Chapter%204/Datasets/TopSellingAlbums.xlsx'\n",
        "\n",
        "await download(xlsx_path, \"TopSellingAlbums.xlsx\")\n",
        "df = pd.read_excel(\"TopSellingAlbums.xlsx\")\n",
        "df.head()\n",
        "\n"
      ],
      "metadata": {
        "id": "05WNL7YrZ2VO"
      },
      "execution_count": 37,
      "outputs": []
    },
    {
      "cell_type": "code",
      "source": [
        "#Obteniendo la longitud de una columna \n",
        "x = df[['Length']]\n",
        "x"
      ],
      "metadata": {
        "id": "fq3V0AiKfPKl"
      },
      "execution_count": null,
      "outputs": []
    },
    {
      "cell_type": "code",
      "source": [
        "#Obteniendo la columna como un nuevo dataframe \n",
        "\n",
        "x = df[['Artist']]\n",
        "type(x)"
      ],
      "metadata": {
        "id": "cQkIL9F1fVoT"
      },
      "execution_count": null,
      "outputs": []
    },
    {
      "cell_type": "code",
      "source": [
        "#Accesando a multiples columnas\n",
        "\n",
        "y = df[['Artist','Length','Genre']]\n",
        "y"
      ],
      "metadata": {
        "id": "uPmh4bX0fbj8"
      },
      "execution_count": null,
      "outputs": []
    },
    {
      "cell_type": "code",
      "source": [
        "#Accesando al valor de la primer fila primer columna\n",
        "\n",
        "df.iloc[0, 0]"
      ],
      "metadata": {
        "id": "KxE-jlzOfh4b"
      },
      "execution_count": null,
      "outputs": []
    },
    {
      "cell_type": "code",
      "source": [
        "#Accesando al valor de la segunda fila primer columna\n",
        "\n",
        "df.iloc[1, 0]"
      ],
      "metadata": {
        "id": "MBwt6_u8fprv"
      },
      "execution_count": null,
      "outputs": []
    },
    {
      "cell_type": "code",
      "source": [
        "# Accesando a la columna usando el nombre\n",
        "\n",
        "df.loc[1, 'Artist']"
      ],
      "metadata": {
        "id": "dqiUc_W1fwbw"
      },
      "execution_count": null,
      "outputs": []
    },
    {
      "cell_type": "code",
      "source": [
        "#Dividiendo el dataframe\n",
        "df.iloc[0:2, 0:3]"
      ],
      "metadata": {
        "id": "Nhi6PaYSgSXp"
      },
      "execution_count": null,
      "outputs": []
    },
    {
      "cell_type": "code",
      "source": [
        "#Ejercicio1: Guardar la columna Rating como un nuevo dataframe\n",
        "h= df[['Rating']]\n",
        "h"
      ],
      "metadata": {
        "id": "bOS86ITBgkzP"
      },
      "execution_count": null,
      "outputs": []
    },
    {
      "cell_type": "code",
      "source": [
        "#Ejercicio 2: Asigna la variable h al dataframe hecho de la columna Realesed y Artist\n",
        "h= df[['Rating' , 'Artist']]\n",
        "h"
      ],
      "metadata": {
        "id": "SXXAcItFgw9V"
      },
      "execution_count": null,
      "outputs": []
    },
    {
      "cell_type": "code",
      "source": [
        "#Ejercicio3: Accesa a la segunda fila 3er columna de df\n",
        "df.iloc[1, 2]"
      ],
      "metadata": {
        "id": "-Jx-FA5MhCuO"
      },
      "execution_count": null,
      "outputs": []
    },
    {
      "cell_type": "markdown",
      "source": [
        "**Aquí termina el módulo 4**\n",
        "\n",
        "---\n",
        "\n"
      ],
      "metadata": {
        "id": "tiGh8ldEhrRa"
      }
    }
  ]
}