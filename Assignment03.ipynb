{
  "nbformat": 4,
  "nbformat_minor": 0,
  "metadata": {
    "colab": {
      "provenance": [],
      "authorship_tag": "ABX9TyP6vkSnZ4+qO+UOuEMartIV",
      "include_colab_link": true
    },
    "kernelspec": {
      "name": "python3",
      "display_name": "Python 3"
    },
    "language_info": {
      "name": "python"
    }
  },
  "cells": [
    {
      "cell_type": "markdown",
      "metadata": {
        "id": "view-in-github",
        "colab_type": "text"
      },
      "source": [
        "<a href=\"https://colab.research.google.com/github/PosgradoMNA/Atividades-de-aprendizaje-SamaraGarcia/blob/main/Assignment03.ipynb\" target=\"_parent\"><img src=\"https://colab.research.google.com/assets/colab-badge.svg\" alt=\"Open In Colab\"/></a>"
      ]
    },
    {
      "cell_type": "markdown",
      "source": [
        "\n",
        "Actividad 4 Python Samara García González A0123001\n"
      ],
      "metadata": {
        "id": "qFBqk2X9ldwq"
      }
    },
    {
      "cell_type": "markdown",
      "source": [
        "**Asigment Python for Data Science**"
      ],
      "metadata": {
        "id": "zyImBrazlo3s"
      }
    },
    {
      "cell_type": "markdown",
      "source": [
        "\n",
        "**Módulo 5**\n",
        "\n",
        "---\n",
        "\n"
      ],
      "metadata": {
        "id": "fzuj7kcwlssw"
      }
    },
    {
      "cell_type": "code",
      "source": [
        "#Módulo5: Learning Objectives\n",
        "#Explain the use of the HTTP protocol using the Requests Library method\n",
        "#Describe how the URL Request Response HTTP protocol works\n",
        "#Learn to apply simple, open-source APIs\n",
        "#Perform basic webscraping using Python\n",
        "#Work with different file formats using Python\n",
        "#Explain the difference between APIs and REST APIs\n",
        "#Summarize how APIs receive and send information"
      ],
      "metadata": {
        "id": "eV0Z6e9SlvMM"
      },
      "execution_count": null,
      "outputs": []
    },
    {
      "cell_type": "code",
      "source": [
        "import numpy as np\n",
        "np.array([1,-1])*np.array([1,1])"
      ],
      "metadata": {
        "colab": {
          "base_uri": "https://localhost:8080/"
        },
        "id": "CC2iikRllxa7",
        "outputId": "ed49d303-3b0a-4ca9-c03d-ad121efa5cfc"
      },
      "execution_count": 2,
      "outputs": [
        {
          "output_type": "execute_result",
          "data": {
            "text/plain": [
              "array([ 1, -1])"
            ]
          },
          "metadata": {},
          "execution_count": 2
        }
      ]
    },
    {
      "cell_type": "code",
      "source": [
        "np.dot(np.array([1,-1]),np.array([1,1]))"
      ],
      "metadata": {
        "colab": {
          "base_uri": "https://localhost:8080/"
        },
        "id": "7yM7yO4PnrsB",
        "outputId": "1e8298ac-5335-4234-873d-f363e5051cd2"
      },
      "execution_count": 3,
      "outputs": [
        {
          "output_type": "execute_result",
          "data": {
            "text/plain": [
              "0"
            ]
          },
          "metadata": {},
          "execution_count": 3
        }
      ]
    },
    {
      "cell_type": "markdown",
      "source": [
        "**Lab - Working with 1D Numpy Arrays **"
      ],
      "metadata": {
        "id": "gHUI3yfsoA8F"
      }
    },
    {
      "cell_type": "code",
      "source": [
        "#Creando una lista en python\n",
        "b =  [\"0\", 1, \"dos\", \"3\", 4]"
      ],
      "metadata": {
        "id": "f82K7rZvoFbt"
      },
      "execution_count": 5,
      "outputs": []
    },
    {
      "cell_type": "code",
      "source": [
        "#Imprimiendo cada uno de los elementos\n",
        "print(\"b[0]: \", b[0])\n",
        "print(\"b[1]: \", b[1])\n",
        "print(\"b[2]: \", b[2])\n",
        "print(\"b[3]: \", b[3])\n",
        "print(\"b[4]: \", b[4])"
      ],
      "metadata": {
        "colab": {
          "base_uri": "https://localhost:8080/"
        },
        "id": "rydKk_zJorF_",
        "outputId": "5b0f2c71-1cbb-46fb-f689-2f9d18dd6854"
      },
      "execution_count": 6,
      "outputs": [
        {
          "output_type": "stream",
          "name": "stdout",
          "text": [
            "b[0]:  0\n",
            "b[1]:  1\n",
            "b[2]:  dos\n",
            "b[3]:  3\n",
            "b[4]:  4\n"
          ]
        }
      ]
    },
    {
      "cell_type": "code",
      "source": [
        "#Creando un array de numpy \n",
        "\n",
        "a = np.array([0, 1, 2, 3, 4])\n",
        "a"
      ],
      "metadata": {
        "colab": {
          "base_uri": "https://localhost:8080/"
        },
        "id": "R2YIwhgXo-CN",
        "outputId": "77a72377-8845-4291-d7e0-1fb201a4fb3e"
      },
      "execution_count": 7,
      "outputs": [
        {
          "output_type": "execute_result",
          "data": {
            "text/plain": [
              "array([0, 1, 2, 3, 4])"
            ]
          },
          "metadata": {},
          "execution_count": 7
        }
      ]
    },
    {
      "cell_type": "code",
      "source": [
        "#Imprimiendo cada elemento \n",
        "print(\"a[0]:\", a[0])\n",
        "print(\"a[1]:\", a[1])\n",
        "print(\"a[2]:\", a[2])\n",
        "print(\"a[3]:\", a[3])\n",
        "print(\"a[4]:\", a[4])"
      ],
      "metadata": {
        "colab": {
          "base_uri": "https://localhost:8080/"
        },
        "id": "P4iZf5GpqSiu",
        "outputId": "30953123-4f70-422b-a8f1-d2d68748c34e"
      },
      "execution_count": 8,
      "outputs": [
        {
          "output_type": "stream",
          "name": "stdout",
          "text": [
            "a[0]: 0\n",
            "a[1]: 1\n",
            "a[2]: 2\n",
            "a[3]: 3\n",
            "a[4]: 4\n"
          ]
        }
      ]
    },
    {
      "cell_type": "code",
      "source": [
        "#Verificando la versión de numpy que tenemos \n",
        "print(np.__version__)"
      ],
      "metadata": {
        "colab": {
          "base_uri": "https://localhost:8080/"
        },
        "id": "E1PdzTCBq_IW",
        "outputId": "90165be5-6ee1-419b-dccf-86a129dc4c1f"
      },
      "execution_count": 9,
      "outputs": [
        {
          "output_type": "stream",
          "name": "stdout",
          "text": [
            "1.21.6\n"
          ]
        }
      ]
    },
    {
      "cell_type": "code",
      "source": [
        "#Verificando el tipo de valor que está guardado en a\n",
        "\n",
        "type(a)"
      ],
      "metadata": {
        "colab": {
          "base_uri": "https://localhost:8080/"
        },
        "id": "BFkH73tlrDED",
        "outputId": "668a6554-58ee-4d57-824d-9e12e5694117"
      },
      "execution_count": 10,
      "outputs": [
        {
          "output_type": "execute_result",
          "data": {
            "text/plain": [
              "numpy.ndarray"
            ]
          },
          "metadata": {},
          "execution_count": 10
        }
      ]
    },
    {
      "cell_type": "code",
      "source": [
        "#Verificando el tipo de valor que estan guardados en a \n",
        "a.dtype"
      ],
      "metadata": {
        "colab": {
          "base_uri": "https://localhost:8080/"
        },
        "id": "-a5-nEjprPSf",
        "outputId": "558f0150-a65d-4d11-a523-9bfbfd1953af"
      },
      "execution_count": 11,
      "outputs": [
        {
          "output_type": "execute_result",
          "data": {
            "text/plain": [
              "dtype('int64')"
            ]
          },
          "metadata": {},
          "execution_count": 11
        }
      ]
    },
    {
      "cell_type": "markdown",
      "source": [
        "Assigning a value\n",
        "\n",
        "---\n",
        "\n"
      ],
      "metadata": {
        "id": "LrSUcgv-swbN"
      }
    },
    {
      "cell_type": "code",
      "source": [
        "#Cambiando el valor de un elemento del array \n",
        "a[0] = 100\n",
        "a"
      ],
      "metadata": {
        "colab": {
          "base_uri": "https://localhost:8080/"
        },
        "id": "8wfXY15KreTZ",
        "outputId": "75c02732-6993-4f10-8430-77ddb430cd14"
      },
      "execution_count": 12,
      "outputs": [
        {
          "output_type": "execute_result",
          "data": {
            "text/plain": [
              "array([100,   1,   2,   3,   4])"
            ]
          },
          "metadata": {},
          "execution_count": 12
        }
      ]
    },
    {
      "cell_type": "code",
      "source": [
        "#Cambiando el valor de un elemento del array \n",
        "a[3] = 300\n",
        "a"
      ],
      "metadata": {
        "colab": {
          "base_uri": "https://localhost:8080/"
        },
        "id": "Xobpnwh5r42F",
        "outputId": "c81ad66a-44d1-4691-a7da-e7e728468831"
      },
      "execution_count": 13,
      "outputs": [
        {
          "output_type": "execute_result",
          "data": {
            "text/plain": [
              "array([100,   1,   2, 300,   4])"
            ]
          },
          "metadata": {},
          "execution_count": 13
        }
      ]
    },
    {
      "cell_type": "code",
      "source": [
        "a = np.array([10, 2, 30, 40,50])\n",
        "a[1]=20\n",
        "a\n",
        "# Cambia el segundo valor por 20\n"
      ],
      "metadata": {
        "colab": {
          "base_uri": "https://localhost:8080/"
        },
        "id": "HrmuMVAlsHZk",
        "outputId": "b00bd0df-194e-4dbc-89f1-149da0f4ce07"
      },
      "execution_count": 17,
      "outputs": [
        {
          "output_type": "execute_result",
          "data": {
            "text/plain": [
              "array([10, 20, 30, 40, 50])"
            ]
          },
          "metadata": {},
          "execution_count": 17
        }
      ]
    },
    {
      "cell_type": "markdown",
      "source": [
        "Slicing\n",
        "\n",
        "---\n",
        "\n"
      ],
      "metadata": {
        "id": "JB2heQ6LsrXH"
      }
    },
    {
      "cell_type": "code",
      "source": [
        "#Slicing a en d\n",
        "d = a[1:4]\n",
        "d"
      ],
      "metadata": {
        "colab": {
          "base_uri": "https://localhost:8080/"
        },
        "id": "Dw4lEnNSsziR",
        "outputId": "ad895590-9621-462f-bfd7-c3ddee3f5b07"
      },
      "execution_count": 16,
      "outputs": [
        {
          "output_type": "execute_result",
          "data": {
            "text/plain": [
              "array([20, 30, 40])"
            ]
          },
          "metadata": {},
          "execution_count": 16
        }
      ]
    },
    {
      "cell_type": "code",
      "source": [
        "#Definir los pasos del slicing\n",
        "arr = np.array([1, 2, 3, 4, 5, 6, 7])\n",
        "print(arr[1:5:2])"
      ],
      "metadata": {
        "colab": {
          "base_uri": "https://localhost:8080/"
        },
        "id": "jYiKu9yButNj",
        "outputId": "2819622d-faac-46a0-e082-38efb53fa7a7"
      },
      "execution_count": 19,
      "outputs": [
        {
          "output_type": "stream",
          "name": "stdout",
          "text": [
            "[2 4]\n"
          ]
        }
      ]
    },
    {
      "cell_type": "code",
      "source": [
        "#Si no se coloca la posición de inicio se considera como 0\n",
        "print(arr[:4])"
      ],
      "metadata": {
        "colab": {
          "base_uri": "https://localhost:8080/"
        },
        "id": "dI6PHStRvAdQ",
        "outputId": "8e5528e5-000e-4df8-8dc7-b2ba1774d026"
      },
      "execution_count": 21,
      "outputs": [
        {
          "output_type": "stream",
          "name": "stdout",
          "text": [
            "[1 2 3 4]\n"
          ]
        }
      ]
    },
    {
      "cell_type": "code",
      "source": [
        "#Si no se coloca la posición de final se considera como length\n",
        "print(arr[1:])"
      ],
      "metadata": {
        "colab": {
          "base_uri": "https://localhost:8080/"
        },
        "id": "p7jgPN80vJy7",
        "outputId": "967e6942-54fd-48bb-9589-3e18edf4e2d9"
      },
      "execution_count": 22,
      "outputs": [
        {
          "output_type": "stream",
          "name": "stdout",
          "text": [
            "[2 3 4 5 6 7]\n"
          ]
        }
      ]
    },
    {
      "cell_type": "code",
      "source": [
        "#Imprimer los  elementos pares  del array\n",
        "arr = np.array([1, 2, 3, 4, 5, 6, 7, 8])\n",
        "print(arr[1:8:2])"
      ],
      "metadata": {
        "colab": {
          "base_uri": "https://localhost:8080/"
        },
        "id": "xdjBhn91vWKG",
        "outputId": "33d5b4bf-e470-4974-ae80-a35aab787940"
      },
      "execution_count": 24,
      "outputs": [
        {
          "output_type": "stream",
          "name": "stdout",
          "text": [
            "[2 4 6 8]\n"
          ]
        }
      ]
    },
    {
      "cell_type": "markdown",
      "source": [
        "**Asignando valores con list**"
      ],
      "metadata": {
        "id": "PMhSKJuuvhZ2"
      }
    },
    {
      "cell_type": "code",
      "source": [
        "#Creando la lista de indexes\n",
        "select = [0, 2, 3, 4]\n",
        "select"
      ],
      "metadata": {
        "colab": {
          "base_uri": "https://localhost:8080/"
        },
        "id": "WH5QuM8Dvgbd",
        "outputId": "96767c23-cd94-44f1-edae-e54bb88aa73d"
      },
      "execution_count": 30,
      "outputs": [
        {
          "output_type": "execute_result",
          "data": {
            "text/plain": [
              "[0, 2, 3, 4]"
            ]
          },
          "metadata": {},
          "execution_count": 30
        }
      ]
    },
    {
      "cell_type": "code",
      "source": [
        "#Usando una lista para seleccionar elementos\n",
        "d = a[select]\n",
        "d"
      ],
      "metadata": {
        "colab": {
          "base_uri": "https://localhost:8080/"
        },
        "id": "EMKoFZuEv1Xy",
        "outputId": "43d24093-3dfe-4b34-89a6-728c7dcd6d76"
      },
      "execution_count": 29,
      "outputs": [
        {
          "output_type": "execute_result",
          "data": {
            "text/plain": [
              "array([100000, 100000, 100000, 100000])"
            ]
          },
          "metadata": {},
          "execution_count": 29
        }
      ]
    },
    {
      "cell_type": "code",
      "source": [
        "a[select] = 100000\n",
        "a"
      ],
      "metadata": {
        "colab": {
          "base_uri": "https://localhost:8080/"
        },
        "id": "5nf8BCjQv-Os",
        "outputId": "3f0306a7-01ad-4a2a-e89a-0819a6341c41"
      },
      "execution_count": 28,
      "outputs": [
        {
          "output_type": "execute_result",
          "data": {
            "text/plain": [
              "array([100000,     20, 100000, 100000, 100000])"
            ]
          },
          "metadata": {},
          "execution_count": 28
        }
      ]
    },
    {
      "cell_type": "markdown",
      "source": [
        "Otros atributos\n",
        "\n",
        "---\n",
        "\n"
      ],
      "metadata": {
        "id": "9PROyKM-wRM1"
      }
    },
    {
      "cell_type": "code",
      "source": [
        "#Creandi un array con numpy\n",
        "a = np.array([0, 1, 2, 3, 4])\n",
        "a"
      ],
      "metadata": {
        "colab": {
          "base_uri": "https://localhost:8080/"
        },
        "id": "BK8Qcdf_wUe4",
        "outputId": "814075bd-d7f7-413c-99f7-a7c65fb578a4"
      },
      "execution_count": 31,
      "outputs": [
        {
          "output_type": "execute_result",
          "data": {
            "text/plain": [
              "array([0, 1, 2, 3, 4])"
            ]
          },
          "metadata": {},
          "execution_count": 31
        }
      ]
    },
    {
      "cell_type": "code",
      "source": [
        "#Usando size\n",
        "a.size"
      ],
      "metadata": {
        "colab": {
          "base_uri": "https://localhost:8080/"
        },
        "id": "wBuh8Gycwaza",
        "outputId": "e0186331-9398-439f-8147-f1f209358b5d"
      },
      "execution_count": 32,
      "outputs": [
        {
          "output_type": "execute_result",
          "data": {
            "text/plain": [
              "5"
            ]
          },
          "metadata": {},
          "execution_count": 32
        }
      ]
    },
    {
      "cell_type": "code",
      "source": [
        "#Obtener el numero de dimensiones de un array numpy\n",
        "a.size"
      ],
      "metadata": {
        "colab": {
          "base_uri": "https://localhost:8080/"
        },
        "id": "hAbH4z7NwdEQ",
        "outputId": "a052a34a-bbd3-4426-c26a-f29d67c4e2ef"
      },
      "execution_count": 33,
      "outputs": [
        {
          "output_type": "execute_result",
          "data": {
            "text/plain": [
              "5"
            ]
          },
          "metadata": {},
          "execution_count": 33
        }
      ]
    },
    {
      "cell_type": "code",
      "source": [
        "#Obteniendo shape\n",
        "a.shape"
      ],
      "metadata": {
        "colab": {
          "base_uri": "https://localhost:8080/"
        },
        "id": "_-wDxyI_wpAs",
        "outputId": "a99aa5c6-eedd-4af3-fd71-db728b9717c1"
      },
      "execution_count": 34,
      "outputs": [
        {
          "output_type": "execute_result",
          "data": {
            "text/plain": [
              "(5,)"
            ]
          },
          "metadata": {},
          "execution_count": 34
        }
      ]
    },
    {
      "cell_type": "code",
      "source": [
        "#Obteniendo size, dimensions and shape\n",
        "b = np.array([10, 20, 30, 40, 50, 60, 70])\n",
        "b.size\n",
        "b.ndim\n",
        "b.shape"
      ],
      "metadata": {
        "colab": {
          "base_uri": "https://localhost:8080/"
        },
        "id": "98HtFiW2wue9",
        "outputId": "69b31ca4-eecd-47ae-aaac-6f18cfd29425"
      },
      "execution_count": 35,
      "outputs": [
        {
          "output_type": "execute_result",
          "data": {
            "text/plain": [
              "(7,)"
            ]
          },
          "metadata": {},
          "execution_count": 35
        }
      ]
    },
    {
      "cell_type": "markdown",
      "source": [
        "Numpy Statistical Functions\n",
        "\n",
        "---\n",
        "\n"
      ],
      "metadata": {
        "id": "Xxqnhnp7xTm5"
      }
    },
    {
      "cell_type": "code",
      "source": [
        "# Create el array numpy\n",
        "a = np.array([1, -1, 1, -1])"
      ],
      "metadata": {
        "id": "TJ7PGBrDxM67"
      },
      "execution_count": 42,
      "outputs": []
    },
    {
      "cell_type": "code",
      "source": [
        "#Obteniendo la media\n",
        "mean = a.mean()\n",
        "mean"
      ],
      "metadata": {
        "colab": {
          "base_uri": "https://localhost:8080/"
        },
        "id": "3RIR5Q2QxXyH",
        "outputId": "aa1a929f-253d-4f33-b0f9-38806ef1c488"
      },
      "execution_count": 43,
      "outputs": [
        {
          "output_type": "execute_result",
          "data": {
            "text/plain": [
              "0.0"
            ]
          },
          "metadata": {},
          "execution_count": 43
        }
      ]
    },
    {
      "cell_type": "code",
      "source": [
        "#Obteniendo la desviación estándar\n",
        "standard_deviation=a.std()\n",
        "standard_deviation"
      ],
      "metadata": {
        "colab": {
          "base_uri": "https://localhost:8080/"
        },
        "id": "7W6oNKSmxZvx",
        "outputId": "5a9fa697-babc-4fd4-8e43-a098ab47654c"
      },
      "execution_count": 44,
      "outputs": [
        {
          "output_type": "execute_result",
          "data": {
            "text/plain": [
              "1.0"
            ]
          },
          "metadata": {},
          "execution_count": 44
        }
      ]
    },
    {
      "cell_type": "code",
      "source": [
        "# Creando un array\n",
        "b = np.array([-1, 2, 3, 4, 5])\n",
        "b"
      ],
      "metadata": {
        "colab": {
          "base_uri": "https://localhost:8080/"
        },
        "id": "OWAPd4OcxdDg",
        "outputId": "7e990aa2-ce8c-4448-c0fb-75358c4b03fe"
      },
      "execution_count": 45,
      "outputs": [
        {
          "output_type": "execute_result",
          "data": {
            "text/plain": [
              "array([-1,  2,  3,  4,  5])"
            ]
          },
          "metadata": {},
          "execution_count": 45
        }
      ]
    },
    {
      "cell_type": "code",
      "source": [
        "# Encontrando el valor máximo\n",
        "max_b = b.max()\n",
        "max_b"
      ],
      "metadata": {
        "colab": {
          "base_uri": "https://localhost:8080/"
        },
        "id": "INJKtUT3xfHi",
        "outputId": "1f29f912-d56f-4b48-8cd4-306caa678433"
      },
      "execution_count": 46,
      "outputs": [
        {
          "output_type": "execute_result",
          "data": {
            "text/plain": [
              "5"
            ]
          },
          "metadata": {},
          "execution_count": 46
        }
      ]
    },
    {
      "cell_type": "code",
      "source": [
        "# Encontrando el valor minimo\n",
        "min_b = b.min()\n",
        "min_b"
      ],
      "metadata": {
        "colab": {
          "base_uri": "https://localhost:8080/"
        },
        "id": "wIPuUDgDxhJP",
        "outputId": "ef8e4695-3a21-4575-e6fc-b41baddc891a"
      },
      "execution_count": 47,
      "outputs": [
        {
          "output_type": "execute_result",
          "data": {
            "text/plain": [
              "-1"
            ]
          },
          "metadata": {},
          "execution_count": 47
        }
      ]
    },
    {
      "cell_type": "code",
      "source": [
        "#Encontrando la suma del máximo y el minimo\n",
        "c = np.array([-10, 201, 43, 94, 502])\n",
        "max_c = c.max()\n",
        "max_c    \n",
        "min_c = c.min()\n",
        "min_c \n",
        "Sum = (max_c +min_c)\n",
        "Sum"
      ],
      "metadata": {
        "colab": {
          "base_uri": "https://localhost:8080/"
        },
        "id": "iaIEXZlJx6k0",
        "outputId": "d82f8b84-e838-4364-de5f-7bbb8322e9ea"
      },
      "execution_count": 49,
      "outputs": [
        {
          "output_type": "execute_result",
          "data": {
            "text/plain": [
              "492"
            ]
          },
          "metadata": {},
          "execution_count": 49
        }
      ]
    },
    {
      "cell_type": "markdown",
      "source": [
        "Numpy Array Operations\n",
        "\n",
        "---\n",
        "\n"
      ],
      "metadata": {
        "id": "lPvL6UKvyLUc"
      }
    }
  ]
}