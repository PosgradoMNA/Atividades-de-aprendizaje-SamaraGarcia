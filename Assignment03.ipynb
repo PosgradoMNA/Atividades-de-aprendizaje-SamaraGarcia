{
  "nbformat": 4,
  "nbformat_minor": 0,
  "metadata": {
    "colab": {
      "provenance": [],
      "authorship_tag": "ABX9TyMoyY2cbsujKeqeaPitdblP",
      "include_colab_link": true
    },
    "kernelspec": {
      "name": "python3",
      "display_name": "Python 3"
    },
    "language_info": {
      "name": "python"
    }
  },
  "cells": [
    {
      "cell_type": "markdown",
      "metadata": {
        "id": "view-in-github",
        "colab_type": "text"
      },
      "source": [
        "<a href=\"https://colab.research.google.com/github/PosgradoMNA/Atividades-de-aprendizaje-SamaraGarcia/blob/main/Assignment03.ipynb\" target=\"_parent\"><img src=\"https://colab.research.google.com/assets/colab-badge.svg\" alt=\"Open In Colab\"/></a>"
      ]
    },
    {
      "cell_type": "markdown",
      "source": [
        "\n",
        "Actividad 4 Python Samara García González A0123001\n"
      ],
      "metadata": {
        "id": "qFBqk2X9ldwq"
      }
    },
    {
      "cell_type": "markdown",
      "source": [
        "**Asigment Python for Data Science**"
      ],
      "metadata": {
        "id": "zyImBrazlo3s"
      }
    },
    {
      "cell_type": "markdown",
      "source": [
        "\n",
        "**Módulo 5**\n",
        "\n",
        "---\n",
        "\n"
      ],
      "metadata": {
        "id": "fzuj7kcwlssw"
      }
    },
    {
      "cell_type": "code",
      "source": [
        "#Módulo5: Learning Objectives\n",
        "#Explain the use of the HTTP protocol using the Requests Library method\n",
        "#Describe how the URL Request Response HTTP protocol works\n",
        "#Learn to apply simple, open-source APIs\n",
        "#Perform basic webscraping using Python\n",
        "#Work with different file formats using Python\n",
        "#Explain the difference between APIs and REST APIs\n",
        "#Summarize how APIs receive and send information"
      ],
      "metadata": {
        "id": "eV0Z6e9SlvMM"
      },
      "execution_count": 2,
      "outputs": []
    },
    {
      "cell_type": "code",
      "source": [
        "import numpy as np\n",
        "np.array([1,-1])*np.array([1,1])"
      ],
      "metadata": {
        "colab": {
          "base_uri": "https://localhost:8080/"
        },
        "id": "CC2iikRllxa7",
        "outputId": "ebddfef5-9280-4a73-d628-1dfb6a89e29a"
      },
      "execution_count": 3,
      "outputs": [
        {
          "output_type": "execute_result",
          "data": {
            "text/plain": [
              "array([ 1, -1])"
            ]
          },
          "metadata": {},
          "execution_count": 3
        }
      ]
    },
    {
      "cell_type": "code",
      "source": [
        "np.dot(np.array([1,-1]),np.array([1,1]))"
      ],
      "metadata": {
        "colab": {
          "base_uri": "https://localhost:8080/"
        },
        "id": "7yM7yO4PnrsB",
        "outputId": "c8a29e97-5a7e-4231-acc2-e384e7d21534"
      },
      "execution_count": 4,
      "outputs": [
        {
          "output_type": "execute_result",
          "data": {
            "text/plain": [
              "0"
            ]
          },
          "metadata": {},
          "execution_count": 4
        }
      ]
    },
    {
      "cell_type": "markdown",
      "source": [
        "**Lab - Working with 1D Numpy Arrays **"
      ],
      "metadata": {
        "id": "gHUI3yfsoA8F"
      }
    },
    {
      "cell_type": "code",
      "source": [
        "#Creando una lista en python\n",
        "b =  [\"0\", 1, \"dos\", \"3\", 4]"
      ],
      "metadata": {
        "id": "f82K7rZvoFbt"
      },
      "execution_count": 5,
      "outputs": []
    },
    {
      "cell_type": "code",
      "source": [
        "#Imprimiendo cada uno de los elementos\n",
        "print(\"b[0]: \", b[0])\n",
        "print(\"b[1]: \", b[1])\n",
        "print(\"b[2]: \", b[2])\n",
        "print(\"b[3]: \", b[3])\n",
        "print(\"b[4]: \", b[4])"
      ],
      "metadata": {
        "colab": {
          "base_uri": "https://localhost:8080/"
        },
        "id": "rydKk_zJorF_",
        "outputId": "23608efe-1bd7-49e6-fad3-2984eea781b5"
      },
      "execution_count": 6,
      "outputs": [
        {
          "output_type": "stream",
          "name": "stdout",
          "text": [
            "b[0]:  0\n",
            "b[1]:  1\n",
            "b[2]:  dos\n",
            "b[3]:  3\n",
            "b[4]:  4\n"
          ]
        }
      ]
    },
    {
      "cell_type": "code",
      "source": [
        "#Creando un array de numpy \n",
        "\n",
        "a = np.array([0, 1, 2, 3, 4])\n",
        "a"
      ],
      "metadata": {
        "colab": {
          "base_uri": "https://localhost:8080/"
        },
        "id": "R2YIwhgXo-CN",
        "outputId": "6b73ca6d-4f25-4cb3-bb51-69211fabbc53"
      },
      "execution_count": 7,
      "outputs": [
        {
          "output_type": "execute_result",
          "data": {
            "text/plain": [
              "array([0, 1, 2, 3, 4])"
            ]
          },
          "metadata": {},
          "execution_count": 7
        }
      ]
    },
    {
      "cell_type": "code",
      "source": [
        "#Imprimiendo cada elemento \n",
        "print(\"a[0]:\", a[0])\n",
        "print(\"a[1]:\", a[1])\n",
        "print(\"a[2]:\", a[2])\n",
        "print(\"a[3]:\", a[3])\n",
        "print(\"a[4]:\", a[4])"
      ],
      "metadata": {
        "colab": {
          "base_uri": "https://localhost:8080/"
        },
        "id": "P4iZf5GpqSiu",
        "outputId": "6e7ca601-a669-4793-e0e9-cba1abb1fc98"
      },
      "execution_count": 8,
      "outputs": [
        {
          "output_type": "stream",
          "name": "stdout",
          "text": [
            "a[0]: 0\n",
            "a[1]: 1\n",
            "a[2]: 2\n",
            "a[3]: 3\n",
            "a[4]: 4\n"
          ]
        }
      ]
    },
    {
      "cell_type": "code",
      "source": [
        "#Verificando la versión de numpy que tenemos \n",
        "print(np.__version__)"
      ],
      "metadata": {
        "colab": {
          "base_uri": "https://localhost:8080/"
        },
        "id": "E1PdzTCBq_IW",
        "outputId": "3c8f4f54-ae71-4325-e695-18d5ac6758a7"
      },
      "execution_count": 9,
      "outputs": [
        {
          "output_type": "stream",
          "name": "stdout",
          "text": [
            "1.21.6\n"
          ]
        }
      ]
    },
    {
      "cell_type": "code",
      "source": [
        "#Verificando el tipo de valor que está guardado en a\n",
        "\n",
        "type(a)"
      ],
      "metadata": {
        "colab": {
          "base_uri": "https://localhost:8080/"
        },
        "id": "BFkH73tlrDED",
        "outputId": "2175ee3a-8cda-4ba3-e15c-0ae3b5208944"
      },
      "execution_count": 10,
      "outputs": [
        {
          "output_type": "execute_result",
          "data": {
            "text/plain": [
              "numpy.ndarray"
            ]
          },
          "metadata": {},
          "execution_count": 10
        }
      ]
    },
    {
      "cell_type": "code",
      "source": [
        "#Verificando el tipo de valor que estan guardados en a \n",
        "a.dtype"
      ],
      "metadata": {
        "colab": {
          "base_uri": "https://localhost:8080/"
        },
        "id": "-a5-nEjprPSf",
        "outputId": "757a2174-ef47-473a-fe22-4538fff2ff57"
      },
      "execution_count": 11,
      "outputs": [
        {
          "output_type": "execute_result",
          "data": {
            "text/plain": [
              "dtype('int64')"
            ]
          },
          "metadata": {},
          "execution_count": 11
        }
      ]
    },
    {
      "cell_type": "markdown",
      "source": [
        "Assigning a value\n",
        "\n",
        "---\n",
        "\n"
      ],
      "metadata": {
        "id": "LrSUcgv-swbN"
      }
    },
    {
      "cell_type": "code",
      "source": [
        "#Cambiando el valor de un elemento del array \n",
        "a[0] = 100\n",
        "a"
      ],
      "metadata": {
        "colab": {
          "base_uri": "https://localhost:8080/"
        },
        "id": "8wfXY15KreTZ",
        "outputId": "3d37b564-2e95-4a12-bd6a-18d0057d03bb"
      },
      "execution_count": 12,
      "outputs": [
        {
          "output_type": "execute_result",
          "data": {
            "text/plain": [
              "array([100,   1,   2,   3,   4])"
            ]
          },
          "metadata": {},
          "execution_count": 12
        }
      ]
    },
    {
      "cell_type": "code",
      "source": [
        "#Cambiando el valor de un elemento del array \n",
        "a[3] = 300\n",
        "a"
      ],
      "metadata": {
        "colab": {
          "base_uri": "https://localhost:8080/"
        },
        "id": "Xobpnwh5r42F",
        "outputId": "62f9b32a-49cf-4e15-8e10-56907d530701"
      },
      "execution_count": 13,
      "outputs": [
        {
          "output_type": "execute_result",
          "data": {
            "text/plain": [
              "array([100,   1,   2, 300,   4])"
            ]
          },
          "metadata": {},
          "execution_count": 13
        }
      ]
    },
    {
      "cell_type": "code",
      "source": [
        "a = np.array([10, 2, 30, 40,50])\n",
        "a[1]=20\n",
        "a\n",
        "# Cambia el segundo valor por 20\n"
      ],
      "metadata": {
        "colab": {
          "base_uri": "https://localhost:8080/"
        },
        "id": "HrmuMVAlsHZk",
        "outputId": "9a83bf8f-ed82-4592-b5bf-f8afe0305e1b"
      },
      "execution_count": 14,
      "outputs": [
        {
          "output_type": "execute_result",
          "data": {
            "text/plain": [
              "array([10, 20, 30, 40, 50])"
            ]
          },
          "metadata": {},
          "execution_count": 14
        }
      ]
    },
    {
      "cell_type": "markdown",
      "source": [
        "Slicing\n",
        "\n",
        "---\n",
        "\n"
      ],
      "metadata": {
        "id": "JB2heQ6LsrXH"
      }
    },
    {
      "cell_type": "code",
      "source": [
        "#Slicing a en d\n",
        "d = a[1:4]\n",
        "d"
      ],
      "metadata": {
        "colab": {
          "base_uri": "https://localhost:8080/"
        },
        "id": "Dw4lEnNSsziR",
        "outputId": "f7ae8daf-e0cf-4b3e-a106-3d35e9719ea0"
      },
      "execution_count": 15,
      "outputs": [
        {
          "output_type": "execute_result",
          "data": {
            "text/plain": [
              "array([20, 30, 40])"
            ]
          },
          "metadata": {},
          "execution_count": 15
        }
      ]
    },
    {
      "cell_type": "code",
      "source": [
        "#Definir los pasos del slicing\n",
        "arr = np.array([1, 2, 3, 4, 5, 6, 7])\n",
        "print(arr[1:5:2])"
      ],
      "metadata": {
        "colab": {
          "base_uri": "https://localhost:8080/"
        },
        "id": "jYiKu9yButNj",
        "outputId": "cda6ede0-554c-49a8-fc95-2316960ce983"
      },
      "execution_count": 16,
      "outputs": [
        {
          "output_type": "stream",
          "name": "stdout",
          "text": [
            "[2 4]\n"
          ]
        }
      ]
    },
    {
      "cell_type": "code",
      "source": [
        "#Si no se coloca la posición de inicio se considera como 0\n",
        "print(arr[:4])"
      ],
      "metadata": {
        "colab": {
          "base_uri": "https://localhost:8080/"
        },
        "id": "dI6PHStRvAdQ",
        "outputId": "2ba388ff-5455-4b59-d1e2-1743a5f7ab60"
      },
      "execution_count": 17,
      "outputs": [
        {
          "output_type": "stream",
          "name": "stdout",
          "text": [
            "[1 2 3 4]\n"
          ]
        }
      ]
    },
    {
      "cell_type": "code",
      "source": [
        "#Si no se coloca la posición de final se considera como length\n",
        "print(arr[1:])"
      ],
      "metadata": {
        "colab": {
          "base_uri": "https://localhost:8080/"
        },
        "id": "p7jgPN80vJy7",
        "outputId": "221aa6c2-d49e-4d06-b61e-c9ae177d0a00"
      },
      "execution_count": 18,
      "outputs": [
        {
          "output_type": "stream",
          "name": "stdout",
          "text": [
            "[2 3 4 5 6 7]\n"
          ]
        }
      ]
    },
    {
      "cell_type": "code",
      "source": [
        "#Imprimer los  elementos pares  del array\n",
        "arr = np.array([1, 2, 3, 4, 5, 6, 7, 8])\n",
        "print(arr[1:8:2])"
      ],
      "metadata": {
        "colab": {
          "base_uri": "https://localhost:8080/"
        },
        "id": "xdjBhn91vWKG",
        "outputId": "647d79c2-5e7e-4c7f-9953-77f6309920aa"
      },
      "execution_count": 19,
      "outputs": [
        {
          "output_type": "stream",
          "name": "stdout",
          "text": [
            "[2 4 6 8]\n"
          ]
        }
      ]
    },
    {
      "cell_type": "markdown",
      "source": [
        "**Asignando valores con list**"
      ],
      "metadata": {
        "id": "PMhSKJuuvhZ2"
      }
    },
    {
      "cell_type": "code",
      "source": [
        "#Creando la lista de indexes\n",
        "select = [0, 2, 3, 4]\n",
        "select"
      ],
      "metadata": {
        "colab": {
          "base_uri": "https://localhost:8080/"
        },
        "id": "WH5QuM8Dvgbd",
        "outputId": "1f72f9fc-4339-4874-a089-2a8f5f755276"
      },
      "execution_count": 20,
      "outputs": [
        {
          "output_type": "execute_result",
          "data": {
            "text/plain": [
              "[0, 2, 3, 4]"
            ]
          },
          "metadata": {},
          "execution_count": 20
        }
      ]
    },
    {
      "cell_type": "code",
      "source": [
        "#Usando una lista para seleccionar elementos\n",
        "d = a[select]\n",
        "d"
      ],
      "metadata": {
        "colab": {
          "base_uri": "https://localhost:8080/"
        },
        "id": "EMKoFZuEv1Xy",
        "outputId": "3906b673-c8a1-4171-ea1d-eb4d8c4c9b53"
      },
      "execution_count": 21,
      "outputs": [
        {
          "output_type": "execute_result",
          "data": {
            "text/plain": [
              "array([10, 30, 40, 50])"
            ]
          },
          "metadata": {},
          "execution_count": 21
        }
      ]
    },
    {
      "cell_type": "code",
      "source": [
        "a[select] = 100000\n",
        "a"
      ],
      "metadata": {
        "colab": {
          "base_uri": "https://localhost:8080/"
        },
        "id": "5nf8BCjQv-Os",
        "outputId": "8c2a1aac-f92e-4abf-e4f0-932fa77ff7d3"
      },
      "execution_count": 22,
      "outputs": [
        {
          "output_type": "execute_result",
          "data": {
            "text/plain": [
              "array([100000,     20, 100000, 100000, 100000])"
            ]
          },
          "metadata": {},
          "execution_count": 22
        }
      ]
    },
    {
      "cell_type": "markdown",
      "source": [
        "Otros atributos\n",
        "\n",
        "---\n",
        "\n"
      ],
      "metadata": {
        "id": "9PROyKM-wRM1"
      }
    },
    {
      "cell_type": "code",
      "source": [
        "#Creandi un array con numpy\n",
        "a = np.array([0, 1, 2, 3, 4])\n",
        "a"
      ],
      "metadata": {
        "colab": {
          "base_uri": "https://localhost:8080/"
        },
        "id": "BK8Qcdf_wUe4",
        "outputId": "478ef559-e743-4a46-8196-ab2cad3f5961"
      },
      "execution_count": 23,
      "outputs": [
        {
          "output_type": "execute_result",
          "data": {
            "text/plain": [
              "array([0, 1, 2, 3, 4])"
            ]
          },
          "metadata": {},
          "execution_count": 23
        }
      ]
    },
    {
      "cell_type": "code",
      "source": [
        "#Usando size\n",
        "a.size"
      ],
      "metadata": {
        "colab": {
          "base_uri": "https://localhost:8080/"
        },
        "id": "wBuh8Gycwaza",
        "outputId": "cf6a2cd1-a1d5-441a-d7b4-08c70854a144"
      },
      "execution_count": 24,
      "outputs": [
        {
          "output_type": "execute_result",
          "data": {
            "text/plain": [
              "5"
            ]
          },
          "metadata": {},
          "execution_count": 24
        }
      ]
    },
    {
      "cell_type": "code",
      "source": [
        "#Obtener el numero de dimensiones de un array numpy\n",
        "a.size"
      ],
      "metadata": {
        "colab": {
          "base_uri": "https://localhost:8080/"
        },
        "id": "hAbH4z7NwdEQ",
        "outputId": "5733af42-0ee3-4360-a312-93d7928befd9"
      },
      "execution_count": 25,
      "outputs": [
        {
          "output_type": "execute_result",
          "data": {
            "text/plain": [
              "5"
            ]
          },
          "metadata": {},
          "execution_count": 25
        }
      ]
    },
    {
      "cell_type": "code",
      "source": [
        "#Obteniendo shape\n",
        "a.shape"
      ],
      "metadata": {
        "colab": {
          "base_uri": "https://localhost:8080/"
        },
        "id": "_-wDxyI_wpAs",
        "outputId": "8dc3ea5f-b054-4232-aa45-2422ae513d2c"
      },
      "execution_count": 26,
      "outputs": [
        {
          "output_type": "execute_result",
          "data": {
            "text/plain": [
              "(5,)"
            ]
          },
          "metadata": {},
          "execution_count": 26
        }
      ]
    },
    {
      "cell_type": "code",
      "source": [
        "#Obteniendo size, dimensions and shape\n",
        "b = np.array([10, 20, 30, 40, 50, 60, 70])\n",
        "b.size\n",
        "b.ndim\n",
        "b.shape"
      ],
      "metadata": {
        "colab": {
          "base_uri": "https://localhost:8080/"
        },
        "id": "98HtFiW2wue9",
        "outputId": "0d72fa6e-22e7-4103-fe29-e3766432f0f2"
      },
      "execution_count": 27,
      "outputs": [
        {
          "output_type": "execute_result",
          "data": {
            "text/plain": [
              "(7,)"
            ]
          },
          "metadata": {},
          "execution_count": 27
        }
      ]
    },
    {
      "cell_type": "markdown",
      "source": [
        "Numpy Statistical Functions\n",
        "\n",
        "---\n",
        "\n"
      ],
      "metadata": {
        "id": "Xxqnhnp7xTm5"
      }
    },
    {
      "cell_type": "code",
      "source": [
        "# Create el array numpy\n",
        "a = np.array([1, -1, 1, -1])"
      ],
      "metadata": {
        "id": "TJ7PGBrDxM67"
      },
      "execution_count": 28,
      "outputs": []
    },
    {
      "cell_type": "code",
      "source": [
        "#Obteniendo la media\n",
        "mean = a.mean()\n",
        "mean"
      ],
      "metadata": {
        "colab": {
          "base_uri": "https://localhost:8080/"
        },
        "id": "3RIR5Q2QxXyH",
        "outputId": "2c7d2cc7-e896-4d92-f9af-5ed8daadf6ad"
      },
      "execution_count": 29,
      "outputs": [
        {
          "output_type": "execute_result",
          "data": {
            "text/plain": [
              "0.0"
            ]
          },
          "metadata": {},
          "execution_count": 29
        }
      ]
    },
    {
      "cell_type": "code",
      "source": [
        "#Obteniendo la desviación estándar\n",
        "standard_deviation=a.std()\n",
        "standard_deviation"
      ],
      "metadata": {
        "colab": {
          "base_uri": "https://localhost:8080/"
        },
        "id": "7W6oNKSmxZvx",
        "outputId": "2797ec39-f740-4e57-945b-922d13ed2c33"
      },
      "execution_count": 30,
      "outputs": [
        {
          "output_type": "execute_result",
          "data": {
            "text/plain": [
              "1.0"
            ]
          },
          "metadata": {},
          "execution_count": 30
        }
      ]
    },
    {
      "cell_type": "code",
      "source": [
        "# Creando un array\n",
        "b = np.array([-1, 2, 3, 4, 5])\n",
        "b"
      ],
      "metadata": {
        "colab": {
          "base_uri": "https://localhost:8080/"
        },
        "id": "OWAPd4OcxdDg",
        "outputId": "e32a2814-a577-4dc3-a257-99e01434b44f"
      },
      "execution_count": 31,
      "outputs": [
        {
          "output_type": "execute_result",
          "data": {
            "text/plain": [
              "array([-1,  2,  3,  4,  5])"
            ]
          },
          "metadata": {},
          "execution_count": 31
        }
      ]
    },
    {
      "cell_type": "code",
      "source": [
        "# Encontrando el valor máximo\n",
        "max_b = b.max()\n",
        "max_b"
      ],
      "metadata": {
        "colab": {
          "base_uri": "https://localhost:8080/"
        },
        "id": "INJKtUT3xfHi",
        "outputId": "50f005d1-fd1b-454b-8b2e-721f3a4fa3f9"
      },
      "execution_count": 32,
      "outputs": [
        {
          "output_type": "execute_result",
          "data": {
            "text/plain": [
              "5"
            ]
          },
          "metadata": {},
          "execution_count": 32
        }
      ]
    },
    {
      "cell_type": "code",
      "source": [
        "# Encontrando el valor minimo\n",
        "min_b = b.min()\n",
        "min_b"
      ],
      "metadata": {
        "colab": {
          "base_uri": "https://localhost:8080/"
        },
        "id": "wIPuUDgDxhJP",
        "outputId": "f8ede2bf-3bf2-47bb-e32f-938507456bcf"
      },
      "execution_count": 33,
      "outputs": [
        {
          "output_type": "execute_result",
          "data": {
            "text/plain": [
              "-1"
            ]
          },
          "metadata": {},
          "execution_count": 33
        }
      ]
    },
    {
      "cell_type": "code",
      "source": [
        "#Encontrando la suma del máximo y el minimo\n",
        "c = np.array([-10, 201, 43, 94, 502])\n",
        "max_c = c.max()\n",
        "max_c    \n",
        "min_c = c.min()\n",
        "min_c \n",
        "Sum = (max_c +min_c)\n",
        "Sum"
      ],
      "metadata": {
        "colab": {
          "base_uri": "https://localhost:8080/"
        },
        "id": "iaIEXZlJx6k0",
        "outputId": "974af1c2-5dcb-4f2f-8292-7ce80bde88e1"
      },
      "execution_count": 34,
      "outputs": [
        {
          "output_type": "execute_result",
          "data": {
            "text/plain": [
              "492"
            ]
          },
          "metadata": {},
          "execution_count": 34
        }
      ]
    },
    {
      "cell_type": "markdown",
      "source": [
        "Numpy Array Operations\n",
        "\n",
        "---\n",
        "\n"
      ],
      "metadata": {
        "id": "lPvL6UKvyLUc"
      }
    },
    {
      "cell_type": "code",
      "source": [
        "u = np.array([1, 0])\n",
        "u"
      ],
      "metadata": {
        "id": "pq7NSn6hoMhx",
        "outputId": "1bb13dc2-9945-4704-eb87-8046f0ed2a5c",
        "colab": {
          "base_uri": "https://localhost:8080/"
        }
      },
      "execution_count": 36,
      "outputs": [
        {
          "output_type": "execute_result",
          "data": {
            "text/plain": [
              "array([1, 0])"
            ]
          },
          "metadata": {},
          "execution_count": 36
        }
      ]
    },
    {
      "cell_type": "code",
      "source": [
        "v = np.array([0, 1])\n",
        "v"
      ],
      "metadata": {
        "id": "pZBkuO2GoOkf",
        "outputId": "169651ce-bf90-4fdc-8eb7-e1a1683323d6",
        "colab": {
          "base_uri": "https://localhost:8080/"
        }
      },
      "execution_count": 35,
      "outputs": [
        {
          "output_type": "execute_result",
          "data": {
            "text/plain": [
              "array([0, 1])"
            ]
          },
          "metadata": {},
          "execution_count": 35
        }
      ]
    },
    {
      "cell_type": "code",
      "source": [
        "\n",
        "#Sumando Numpy array\n",
        "z = np.add(u, v)\n",
        "z"
      ],
      "metadata": {
        "id": "pk9Hra2WoV3f",
        "outputId": "912e8be4-0305-4fae-9e6f-e74c6d699de4",
        "colab": {
          "base_uri": "https://localhost:8080/"
        }
      },
      "execution_count": 41,
      "outputs": [
        {
          "output_type": "execute_result",
          "data": {
            "text/plain": [
              "array([1, 1])"
            ]
          },
          "metadata": {},
          "execution_count": 41
        }
      ]
    },
    {
      "cell_type": "code",
      "source": [
        "#graficanfo funciones\n",
        "import time \n",
        "import sys\n",
        "import numpy as np \n",
        "\n",
        "import matplotlib.pyplot as plt\n",
        "%matplotlib inline  \n",
        "\n",
        "def Plotvec1(u, z, v):\n",
        "    \n",
        "    ax = plt.axes() # to generate the full window axes\n",
        "    ax.arrow(0, 0, *u, head_width=0.05, color='r', head_length=0.1)# Add an arrow to the  U Axes with arrow head width 0.05, color red and arrow head length 0.1\n",
        "    plt.text(*(u + 0.1), 'u')#Adds the text u to the Axes \n",
        "    \n",
        "    ax.arrow(0, 0, *v, head_width=0.05, color='b', head_length=0.1)# Add an arrow to the  v Axes with arrow head width 0.05, color red and arrow head length 0.1\n",
        "    plt.text(*(v + 0.1), 'v')#Adds the text v to the Axes \n",
        "    \n",
        "    ax.arrow(0, 0, *z, head_width=0.05, head_length=0.1)\n",
        "    plt.text(*(z + 0.1), 'z')#Adds the text z to the Axes \n",
        "    plt.ylim(-2, 2)#set the ylim to bottom(-2), top(2)\n",
        "    plt.xlim(-2, 2)#set the xlim to left(-2), right(2)\n",
        "    Plotvec1(u, z, v)\n",
        "  \n"
      ],
      "metadata": {
        "id": "Ae2-13-Godpt"
      },
      "execution_count": 40,
      "outputs": []
    },
    {
      "cell_type": "code",
      "source": [
        "#Realiza la suma de dos arrays \n",
        "arr1 = np.array([10, 11, 12, 13, 14, 15])\n",
        "arr2 = np.array([20, 21, 22, 23, 24, 25])\n",
        "z = np.add(arr1,arr2)\n",
        "z"
      ],
      "metadata": {
        "id": "9V31JJ5Toth0",
        "outputId": "7669ca0f-f177-4f41-9990-68862034ca0d",
        "colab": {
          "base_uri": "https://localhost:8080/"
        }
      },
      "execution_count": 42,
      "outputs": [
        {
          "output_type": "execute_result",
          "data": {
            "text/plain": [
              "array([30, 32, 34, 36, 38, 40])"
            ]
          },
          "metadata": {},
          "execution_count": 42
        }
      ]
    },
    {
      "cell_type": "code",
      "source": [
        "#Realiza resta se arrays\n",
        "z= np.subtract(arr1,arr2)\n",
        "z"
      ],
      "metadata": {
        "id": "K22QVDeVo8z9",
        "outputId": "e53bc298-8df2-468e-bc5d-b47df1602d73",
        "colab": {
          "base_uri": "https://localhost:8080/"
        }
      },
      "execution_count": 45,
      "outputs": [
        {
          "output_type": "execute_result",
          "data": {
            "text/plain": [
              "array([-10, -10, -10, -10, -10, -10])"
            ]
          },
          "metadata": {},
          "execution_count": 45
        }
      ]
    },
    {
      "cell_type": "code",
      "source": [
        "#Multiplicación de arrays\n",
        "z = np.multiply(arr1, arr2)\n",
        "z"
      ],
      "metadata": {
        "id": "gA8rE0KepzCt",
        "outputId": "f3241636-8045-45e6-fc07-aa55d1d45305",
        "colab": {
          "base_uri": "https://localhost:8080/"
        }
      },
      "execution_count": 46,
      "outputs": [
        {
          "output_type": "execute_result",
          "data": {
            "text/plain": [
              "array([200, 231, 264, 299, 336, 375])"
            ]
          },
          "metadata": {},
          "execution_count": 46
        }
      ]
    },
    {
      "cell_type": "code",
      "source": [
        "#División de array\n",
        "arr1 = np.array([10, 20, 30, 40, 50, 60])\n",
        "arr2 = np.array([3, 5, 10, 8, 2, 33])\n",
        "c = np.divide(arr1, arr2)\n",
        "c"
      ],
      "metadata": {
        "id": "TyD9BhGmqDnh",
        "outputId": "1665dfb3-5371-4969-a0c5-69d0dd7caf5d",
        "colab": {
          "base_uri": "https://localhost:8080/"
        }
      },
      "execution_count": 48,
      "outputs": [
        {
          "output_type": "execute_result",
          "data": {
            "text/plain": [
              "array([ 3.33333333,  4.        ,  3.        ,  5.        , 25.        ,\n",
              "        1.81818182])"
            ]
          },
          "metadata": {},
          "execution_count": 48
        }
      ]
    },
    {
      "cell_type": "code",
      "source": [
        "#Producto punto\n",
        "X = np.array([1, 2])\n",
        "Y = np.array([3, 2])\n",
        "np.dot(X, Y)\n",
        "print(X[0])\n",
        "print(X[1])\n",
        "print(Y[0])\n",
        "print(Y[1])"
      ],
      "metadata": {
        "id": "1qWgYUi2q6n3",
        "outputId": "ff4b2aa7-feeb-4b0b-f6dc-672ece61891e",
        "colab": {
          "base_uri": "https://localhost:8080/"
        }
      },
      "execution_count": 49,
      "outputs": [
        {
          "output_type": "stream",
          "name": "stdout",
          "text": [
            "1\n",
            "2\n",
            "3\n",
            "2\n"
          ]
        }
      ]
    },
    {
      "cell_type": "code",
      "source": [
        "#Añadiendo una constante \n",
        "u = np.array([1, 2, 3, -1]) \n",
        "u + 5\n"
      ],
      "metadata": {
        "id": "hQELdmbNrDVH",
        "outputId": "b54e99a1-d525-4a39-c579-414519600a64",
        "colab": {
          "base_uri": "https://localhost:8080/"
        }
      },
      "execution_count": 52,
      "outputs": [
        {
          "output_type": "execute_result",
          "data": {
            "text/plain": [
              "array([6, 7, 8, 4])"
            ]
          },
          "metadata": {},
          "execution_count": 52
        }
      ]
    },
    {
      "cell_type": "markdown",
      "source": [
        "\n",
        "Funciones matemáticas\n",
        "\n",
        "---\n",
        "\n",
        "\n",
        "\n"
      ],
      "metadata": {
        "id": "uWs5tOfMsCHV"
      }
    },
    {
      "cell_type": "code",
      "source": [
        "#PI\n",
        "np.pi"
      ],
      "metadata": {
        "id": "rhu0vbzjsGTr",
        "outputId": "457e9b04-2452-45a4-862b-d71a67b3f484",
        "colab": {
          "base_uri": "https://localhost:8080/"
        }
      },
      "execution_count": 53,
      "outputs": [
        {
          "output_type": "execute_result",
          "data": {
            "text/plain": [
              "3.141592653589793"
            ]
          },
          "metadata": {},
          "execution_count": 53
        }
      ]
    },
    {
      "cell_type": "code",
      "source": [
        "#Pasando a radianes un array\n",
        "x = np.array([0, np.pi/2 , np.pi])\n",
        "x"
      ],
      "metadata": {
        "id": "idyahIoWsTJH",
        "outputId": "b4791c8d-382b-4e06-84d0-061c4e86a72e",
        "colab": {
          "base_uri": "https://localhost:8080/"
        }
      },
      "execution_count": 55,
      "outputs": [
        {
          "output_type": "execute_result",
          "data": {
            "text/plain": [
              "array([0.        , 1.57079633, 3.14159265])"
            ]
          },
          "metadata": {},
          "execution_count": 55
        }
      ]
    },
    {
      "cell_type": "code",
      "source": [
        "# Calculando el seno de los elementos\n",
        "y = np.sin(x)\n",
        "y"
      ],
      "metadata": {
        "id": "_EUDL29HsYxA",
        "outputId": "73edca15-e056-4763-ea27-37e6eda32e8b",
        "colab": {
          "base_uri": "https://localhost:8080/"
        }
      },
      "execution_count": 56,
      "outputs": [
        {
          "output_type": "execute_result",
          "data": {
            "text/plain": [
              "array([0.0000000e+00, 1.0000000e+00, 1.2246468e-16])"
            ]
          },
          "metadata": {},
          "execution_count": 56
        }
      ]
    },
    {
      "cell_type": "markdown",
      "source": [
        "Linespace\n",
        "\n",
        "---\n",
        "\n"
      ],
      "metadata": {
        "id": "i60jEuxZsuiS"
      }
    },
    {
      "cell_type": "code",
      "source": [
        "#Una función importante para graficar funciones matemáticas es linespace.\n",
        "np.linspace(-2, 2, num=5)"
      ],
      "metadata": {
        "id": "tkG1vmgrsxBD",
        "outputId": "9da3772d-5eef-47ea-d7c6-d35d64d1dc8e",
        "colab": {
          "base_uri": "https://localhost:8080/"
        }
      },
      "execution_count": 57,
      "outputs": [
        {
          "output_type": "execute_result",
          "data": {
            "text/plain": [
              "array([-2., -1.,  0.,  1.,  2.])"
            ]
          },
          "metadata": {},
          "execution_count": 57
        }
      ]
    },
    {
      "cell_type": "code",
      "source": [
        "np.linspace(-2, 2, num=9)"
      ],
      "metadata": {
        "id": "OdGpCd3cs9Yg",
        "outputId": "cc4e5a3d-9579-476f-d6c2-aed8c034868d",
        "colab": {
          "base_uri": "https://localhost:8080/"
        }
      },
      "execution_count": 58,
      "outputs": [
        {
          "output_type": "execute_result",
          "data": {
            "text/plain": [
              "array([-2. , -1.5, -1. , -0.5,  0. ,  0.5,  1. ,  1.5,  2. ])"
            ]
          },
          "metadata": {},
          "execution_count": 58
        }
      ]
    },
    {
      "cell_type": "code",
      "source": [
        "x = np.linspace(0, 2*np.pi, num=100)"
      ],
      "metadata": {
        "id": "0FZvOgAyucja"
      },
      "execution_count": 59,
      "outputs": []
    },
    {
      "cell_type": "code",
      "source": [
        "y = np.sin(x)"
      ],
      "metadata": {
        "id": "ye6MNHiLufvV"
      },
      "execution_count": 60,
      "outputs": []
    },
    {
      "cell_type": "code",
      "source": [
        "#Graficando\n",
        "plt.plot(x, y)"
      ],
      "metadata": {
        "id": "UGOCKQjnuhnq",
        "outputId": "c521021b-1769-4495-8ce5-e4920df8c9c3",
        "colab": {
          "base_uri": "https://localhost:8080/",
          "height": 282
        }
      },
      "execution_count": 61,
      "outputs": [
        {
          "output_type": "execute_result",
          "data": {
            "text/plain": [
              "[<matplotlib.lines.Line2D at 0x7f919db4e7d0>]"
            ]
          },
          "metadata": {},
          "execution_count": 61
        },
        {
          "output_type": "display_data",
          "data": {
            "text/plain": [
              "<Figure size 432x288 with 1 Axes>"
            ],
            "image/png": "[encoded data removed]"
          },
          "metadata": {
            "needs_background": "light"
          }
        }
      ]
    },
    {
      "cell_type": "code",
      "source": [
        "#Iterando 1-D Arrays\n",
        "arr1 = np.array([1, 2, 3])\n",
        "print(arr1)\n",
        "for x in arr1:\n",
        "  print(x)"
      ],
      "metadata": {
        "id": "Nv8uj5sAuqL8",
        "outputId": "5f70eb53-6fb7-4e4c-d874-0029fb985b16",
        "colab": {
          "base_uri": "https://localhost:8080/"
        }
      },
      "execution_count": 62,
      "outputs": [
        {
          "output_type": "stream",
          "name": "stdout",
          "text": [
            "[1 2 3]\n",
            "1\n",
            "2\n",
            "3\n"
          ]
        }
      ]
    },
    {
      "cell_type": "markdown",
      "source": [
        "Quiz 1D Numpy Array\n",
        "\n",
        "---\n",
        "\n"
      ],
      "metadata": {
        "id": "gAmRTaglux78"
      }
    },
    {
      "cell_type": "code",
      "source": [
        "#Restando dos arrays\n",
        "u = np.array([1, 0])\n",
        "v = np.array([0, 1])\n",
        "u-v"
      ],
      "metadata": {
        "id": "n1NFJrC0u138",
        "outputId": "95d1556a-4676-4498-d08c-6e0ae2796fa9",
        "colab": {
          "base_uri": "https://localhost:8080/"
        }
      },
      "execution_count": 63,
      "outputs": [
        {
          "output_type": "execute_result",
          "data": {
            "text/plain": [
              "array([ 1, -1])"
            ]
          },
          "metadata": {},
          "execution_count": 63
        }
      ]
    },
    {
      "cell_type": "code",
      "source": [
        "#Multiplicando el array z \n",
        "z = np.array([2, 4])\n",
        "z*-2\n"
      ],
      "metadata": {
        "id": "9wXZzpKtvOLN",
        "outputId": "3dde99bd-0f7a-4cbe-eeb2-651879f4cb26",
        "colab": {
          "base_uri": "https://localhost:8080/"
        }
      },
      "execution_count": 64,
      "outputs": [
        {
          "output_type": "execute_result",
          "data": {
            "text/plain": [
              "array([-4, -8])"
            ]
          },
          "metadata": {},
          "execution_count": 64
        }
      ]
    },
    {
      "cell_type": "code",
      "source": [
        "#Multiplicando 2 arrays\n",
        "a = np.array([1, 2, 3, 4, 5])\n",
        "b = np.array([1, 0, 1, 0, 1])\n",
        "a * b"
      ],
      "metadata": {
        "id": "bZPNpIUVvdAN",
        "outputId": "bf213e57-fde6-4070-e5f7-344fb0070f39",
        "colab": {
          "base_uri": "https://localhost:8080/"
        }
      },
      "execution_count": 65,
      "outputs": [
        {
          "output_type": "execute_result",
          "data": {
            "text/plain": [
              "array([1, 0, 3, 0, 5])"
            ]
          },
          "metadata": {},
          "execution_count": 65
        }
      ]
    },
    {
      "cell_type": "code",
      "source": [
        "\n",
        "import time \n",
        "import sys\n",
        "import numpy as np \n",
        "\n",
        "import matplotlib.pyplot as plt\n",
        "%matplotlib inline  \n",
        "\n",
        "def Plotvec2(a,b):\n",
        "    ax = plt.axes()# to generate the full window axes\n",
        "    ax.arrow(0, 0, *a, head_width=0.05, color ='r', head_length=0.1)#Add an arrow to the  a Axes with arrow head width 0.05, color red and arrow head length 0.1\n",
        "    plt.text(*(a + 0.1), 'a')\n",
        "    ax.arrow(0, 0, *b, head_width=0.05, color ='b', head_length=0.1)#Add an arrow to the  b Axes with arrow head width 0.05, color blue and arrow head length 0.1\n",
        "    plt.text(*(b + 0.1), 'b')\n",
        "    plt.ylim(-2, 2)#set the ylim to bottom(-2), top(2)\n",
        "    plt.xlim(-2, 2)#set the xlim to left(-2), right(2)\n",
        "    "
      ],
      "metadata": {
        "id": "XE3fAia3v1gB"
      },
      "execution_count": 66,
      "outputs": []
    },
    {
      "cell_type": "code",
      "source": [
        "\n",
        "a = np.array([-1, 1])\n",
        "b = np.array([1, 1])\n",
        "Plotvec2(a, b)\n",
        "print(\"PRODUCTO PUNTO:\", np.dot(a,b))"
      ],
      "metadata": {
        "id": "qa07vP9hv2s_",
        "outputId": "ed03305d-db6f-42fc-fb77-ea3c897e74ed",
        "colab": {
          "base_uri": "https://localhost:8080/",
          "height": 286
        }
      },
      "execution_count": 68,
      "outputs": [
        {
          "output_type": "stream",
          "name": "stdout",
          "text": [
            "PRODUCTO PUNTO: 0\n"
          ]
        },
        {
          "output_type": "display_data",
          "data": {
            "text/plain": [
              "<Figure size 432x288 with 1 Axes>"
            ],
            "image/png": "[encoded data removed]"
          },
          "metadata": {
            "needs_background": "light"
          }
        }
      ]
    },
    {
      "cell_type": "code",
      "source": [
        "#PRODUCTO PUNTO\n",
        "\n",
        "a = np.array([-1, 1])\n",
        "b = np.array([1, 1])\n",
        "Plotvec2(a, b)\n",
        "print(\"EL PRODUCTO PUNTO ES:\", np.dot(a,b))"
      ],
      "metadata": {
        "id": "TIQI5TLWwUrR",
        "outputId": "0e3bc4d0-780f-4d59-dddb-8775bd99fdbd",
        "colab": {
          "base_uri": "https://localhost:8080/",
          "height": 286
        }
      },
      "execution_count": 69,
      "outputs": [
        {
          "output_type": "stream",
          "name": "stdout",
          "text": [
            "The dot product is 0\n"
          ]
        },
        {
          "output_type": "display_data",
          "data": {
            "text/plain": [
              "<Figure size 432x288 with 1 Axes>"
            ],
            "image/png": "[encoded data removed]"
          },
          "metadata": {
            "needs_background": "light"
          }
        }
      ]
    },
    {
      "cell_type": "code",
      "source": [
        "#REALIZA LAS OPERACIONES ARITMETICAS EN LOS SIGUIENTES ARRAYS\n",
        "arr1 = np.array([1, 2, 3])\n",
        "arr2 = np.array([8, 9, 10])\n",
        "\n",
        "arr3 = np.add(arr1, arr2)\n",
        "arr3\n",
        "\n",
        "arr4 = np.subtract(arr1, arr2)\n",
        "arr4\n",
        "\n",
        "arr5 = np.multiply(arr1, arr2)\n",
        "arr5\n",
        "\n",
        "\n",
        "arr6 = np.divide(arr1, arr2)\n",
        "arr6\n",
        "\n",
        "arr7 = np.dot(arr1, arr2)\n",
        "arr7"
      ],
      "metadata": {
        "id": "O220XV8lwZzv",
        "outputId": "6d6ef604-0a2c-4b59-e19f-32fa2d1ad394",
        "colab": {
          "base_uri": "https://localhost:8080/"
        }
      },
      "execution_count": 70,
      "outputs": [
        {
          "output_type": "execute_result",
          "data": {
            "text/plain": [
              "56"
            ]
          },
          "metadata": {},
          "execution_count": 70
        }
      ]
    },
    {
      "cell_type": "code",
      "source": [
        "#Ultimo ejercicio encontrar pares y nones  \n",
        "arr1 = np.array([1, 2, 3, 4, 5])\n",
        "arr2 = np.array([6, 7, 8, 9, 10])\n",
        "\n",
        "x = arr1[1:8:2]\n",
        "x\n",
        "   \n",
        "y = arr2[0:8:2]\n",
        "y   "
      ],
      "metadata": {
        "id": "nRAuXwuOw6AG",
        "outputId": "5652ddeb-82b3-424d-ec81-bfee989a68bf",
        "colab": {
          "base_uri": "https://localhost:8080/"
        }
      },
      "execution_count": 71,
      "outputs": [
        {
          "output_type": "execute_result",
          "data": {
            "text/plain": [
              "array([ 6,  8, 10])"
            ]
          },
          "metadata": {},
          "execution_count": 71
        }
      ]
    },
    {
      "cell_type": "markdown",
      "source": [
        "Creando un array 2D\n",
        "\n",
        "---\n",
        "\n"
      ],
      "metadata": {
        "id": "TBnWrQlizQ5D"
      }
    },
    {
      "cell_type": "code",
      "source": [
        "\n",
        "import numpy as np \n",
        "import matplotlib.pyplot as plt"
      ],
      "metadata": {
        "id": "RvZlBHjNzUGt"
      },
      "execution_count": 72,
      "outputs": []
    },
    {
      "cell_type": "code",
      "source": [
        "#Creando una lista\n",
        "a = [[11, 12, 13], [21, 22, 23], [31, 32, 33]]\n",
        "a"
      ],
      "metadata": {
        "id": "Oj5w845fzZoZ",
        "outputId": "4f8e8007-736c-44ed-bab5-723679645d73",
        "colab": {
          "base_uri": "https://localhost:8080/"
        }
      },
      "execution_count": 73,
      "outputs": [
        {
          "output_type": "execute_result",
          "data": {
            "text/plain": [
              "[[11, 12, 13], [21, 22, 23], [31, 32, 33]]"
            ]
          },
          "metadata": {},
          "execution_count": 73
        }
      ]
    },
    {
      "cell_type": "code",
      "source": [
        "#Convirtiendola a array numpy\n",
        "A = np.array(a)\n",
        "A"
      ],
      "metadata": {
        "id": "xFwTRbCLzg16",
        "outputId": "8145cea7-50db-431d-e9ee-777e52239d35",
        "colab": {
          "base_uri": "https://localhost:8080/"
        }
      },
      "execution_count": 74,
      "outputs": [
        {
          "output_type": "execute_result",
          "data": {
            "text/plain": [
              "array([[11, 12, 13],\n",
              "       [21, 22, 23],\n",
              "       [31, 32, 33]])"
            ]
          },
          "metadata": {},
          "execution_count": 74
        }
      ]
    },
    {
      "cell_type": "code",
      "source": [
        "#Numero de axes\n",
        "A.ndim"
      ],
      "metadata": {
        "id": "K6NDj5C6zl3j",
        "outputId": "d3429b5a-3a70-424d-805a-d5ad93b96593",
        "colab": {
          "base_uri": "https://localhost:8080/"
        }
      },
      "execution_count": 75,
      "outputs": [
        {
          "output_type": "execute_result",
          "data": {
            "text/plain": [
              "2"
            ]
          },
          "metadata": {},
          "execution_count": 75
        }
      ]
    },
    {
      "cell_type": "code",
      "source": [
        "#Encontrando shape\n",
        "A.shape"
      ],
      "metadata": {
        "id": "NRNAPZsSzpSN",
        "outputId": "f8b0c823-3d07-4606-dbf6-f63a20cf301f",
        "colab": {
          "base_uri": "https://localhost:8080/"
        }
      },
      "execution_count": 76,
      "outputs": [
        {
          "output_type": "execute_result",
          "data": {
            "text/plain": [
              "(3, 3)"
            ]
          },
          "metadata": {},
          "execution_count": 76
        }
      ]
    },
    {
      "cell_type": "code",
      "source": [
        "#Encontrando el tamaño \n",
        "A.shape"
      ],
      "metadata": {
        "id": "dVBQ29WZ0ZrY",
        "outputId": "19e7e812-22b4-4dfc-a43b-a89d843b0c5d",
        "colab": {
          "base_uri": "https://localhost:8080/"
        }
      },
      "execution_count": 77,
      "outputs": [
        {
          "output_type": "execute_result",
          "data": {
            "text/plain": [
              "(3, 3)"
            ]
          },
          "metadata": {},
          "execution_count": 77
        }
      ]
    },
    {
      "cell_type": "code",
      "source": [
        "#Accesando a un elemento de la segundo renglon y tercer columna\n",
        "A[1, 2]"
      ],
      "metadata": {
        "id": "hjBG8Fon08k9",
        "outputId": "098d55ce-0ece-4da6-b250-463ab97044bb",
        "colab": {
          "base_uri": "https://localhost:8080/"
        }
      },
      "execution_count": 78,
      "outputs": [
        {
          "output_type": "execute_result",
          "data": {
            "text/plain": [
              "23"
            ]
          },
          "metadata": {},
          "execution_count": 78
        }
      ]
    },
    {
      "cell_type": "code",
      "source": [
        "\n",
        "A[1][2]"
      ],
      "metadata": {
        "id": "1PrumE4f1FXO",
        "outputId": "ad50f34a-f6fa-4ff2-9f58-4b2eaec6cb54",
        "colab": {
          "base_uri": "https://localhost:8080/"
        }
      },
      "execution_count": 79,
      "outputs": [
        {
          "output_type": "execute_result",
          "data": {
            "text/plain": [
              "23"
            ]
          },
          "metadata": {},
          "execution_count": 79
        }
      ]
    },
    {
      "cell_type": "code",
      "source": [
        "#Accesando al primer elemnto\n",
        "A[0][0]"
      ],
      "metadata": {
        "id": "8VzJ4-nJ1J4X",
        "outputId": "11f583bd-9ec3-4940-c22c-6a93e5d422f1",
        "colab": {
          "base_uri": "https://localhost:8080/"
        }
      },
      "execution_count": 80,
      "outputs": [
        {
          "output_type": "execute_result",
          "data": {
            "text/plain": [
              "11"
            ]
          },
          "metadata": {},
          "execution_count": 80
        }
      ]
    },
    {
      "cell_type": "markdown",
      "source": [
        "Operaciones básicas\n",
        "\n",
        "---\n",
        "\n",
        "\n",
        "\n",
        "\n"
      ],
      "metadata": {
        "id": "UxULVQXk1V47"
      }
    },
    {
      "cell_type": "code",
      "source": [
        "X = np.array([[1, 0], [0, 1]]) \n",
        "X\n"
      ],
      "metadata": {
        "id": "AzmdDslC1Zwh",
        "outputId": "4052d6e5-b2d9-4d97-b9ff-fbf6997cfb54",
        "colab": {
          "base_uri": "https://localhost:8080/"
        }
      },
      "execution_count": 81,
      "outputs": [
        {
          "output_type": "execute_result",
          "data": {
            "text/plain": [
              "array([[1, 0],\n",
              "       [0, 1]])"
            ]
          },
          "metadata": {},
          "execution_count": 81
        }
      ]
    },
    {
      "cell_type": "code",
      "source": [
        "Y = np.array([[2, 1], [1, 2]]) \n",
        "Y"
      ],
      "metadata": {
        "id": "zcrE9kUG1dv9",
        "outputId": "ad45288d-8bdb-4b8d-f374-07cae8e71ee9",
        "colab": {
          "base_uri": "https://localhost:8080/"
        }
      },
      "execution_count": 82,
      "outputs": [
        {
          "output_type": "execute_result",
          "data": {
            "text/plain": [
              "array([[2, 1],\n",
              "       [1, 2]])"
            ]
          },
          "metadata": {},
          "execution_count": 82
        }
      ]
    },
    {
      "cell_type": "code",
      "source": [
        "#Sumando x y y\n",
        "Z = X + Y\n",
        "Z"
      ],
      "metadata": {
        "id": "xxkU4_ci1hLL",
        "outputId": "6827c925-a373-493f-b411-cab4c78db5ad",
        "colab": {
          "base_uri": "https://localhost:8080/"
        }
      },
      "execution_count": 83,
      "outputs": [
        {
          "output_type": "execute_result",
          "data": {
            "text/plain": [
              "array([[3, 1],\n",
              "       [1, 3]])"
            ]
          },
          "metadata": {},
          "execution_count": 83
        }
      ]
    },
    {
      "cell_type": "code",
      "source": [
        "#Multiplicando por 2\n",
        "Z = 2 * Y\n",
        "Z"
      ],
      "metadata": {
        "id": "ry_C5Ux11lEZ",
        "outputId": "96576463-8a6d-4091-907a-1ba19217d42f",
        "colab": {
          "base_uri": "https://localhost:8080/"
        }
      },
      "execution_count": 84,
      "outputs": [
        {
          "output_type": "execute_result",
          "data": {
            "text/plain": [
              "array([[4, 2],\n",
              "       [2, 4]])"
            ]
          },
          "metadata": {},
          "execution_count": 84
        }
      ]
    },
    {
      "cell_type": "code",
      "source": [
        "#Operaciones entre matrices \n",
        "\n",
        "A = np.array([[0, 1, 1], [1, 0, 1]])\n",
        "A"
      ],
      "metadata": {
        "id": "5sFqIR7V1pqi",
        "outputId": "117f8956-2778-4726-a086-ea6a37e5dc20",
        "colab": {
          "base_uri": "https://localhost:8080/"
        }
      },
      "execution_count": 85,
      "outputs": [
        {
          "output_type": "execute_result",
          "data": {
            "text/plain": [
              "array([[0, 1, 1],\n",
              "       [1, 0, 1]])"
            ]
          },
          "metadata": {},
          "execution_count": 85
        }
      ]
    },
    {
      "cell_type": "code",
      "source": [
        "B = np.array([[1, 1], [1, 1], [-1, 1]])\n",
        "B"
      ],
      "metadata": {
        "id": "JIg8LQfR1vAs",
        "outputId": "9485b3ea-2030-429f-e130-b288a3b410a5",
        "colab": {
          "base_uri": "https://localhost:8080/"
        }
      },
      "execution_count": 86,
      "outputs": [
        {
          "output_type": "execute_result",
          "data": {
            "text/plain": [
              "array([[ 1,  1],\n",
              "       [ 1,  1],\n",
              "       [-1,  1]])"
            ]
          },
          "metadata": {},
          "execution_count": 86
        }
      ]
    },
    {
      "cell_type": "code",
      "source": [
        "#Calculando el producto punto\n",
        "\n",
        "Z = np.dot(A,B)\n",
        "Z"
      ],
      "metadata": {
        "id": "QowZp2ce1yr-",
        "outputId": "106f934b-23f6-445a-e4bf-137910c48914",
        "colab": {
          "base_uri": "https://localhost:8080/"
        }
      },
      "execution_count": 87,
      "outputs": [
        {
          "output_type": "execute_result",
          "data": {
            "text/plain": [
              "array([[0, 2],\n",
              "       [0, 2]])"
            ]
          },
          "metadata": {},
          "execution_count": 87
        }
      ]
    },
    {
      "cell_type": "code",
      "source": [
        "#Calculando el seno \n",
        "np.sin(Z)"
      ],
      "metadata": {
        "id": "ueXQlc0114Ha",
        "outputId": "572df6d4-05a3-4c52-f16a-baa88f8aeeb6",
        "colab": {
          "base_uri": "https://localhost:8080/"
        }
      },
      "execution_count": 88,
      "outputs": [
        {
          "output_type": "execute_result",
          "data": {
            "text/plain": [
              "array([[0.        , 0.90929743],\n",
              "       [0.        , 0.90929743]])"
            ]
          },
          "metadata": {},
          "execution_count": 88
        }
      ]
    },
    {
      "cell_type": "code",
      "source": [
        "#Creando otra matriz\n",
        "C = np.array([[1,1],[2,2],[3,3]])\n",
        "C"
      ],
      "metadata": {
        "id": "BaLMJF9p18nU",
        "outputId": "c61b0ff9-4e0c-4b9d-aa36-80f279eefb29",
        "colab": {
          "base_uri": "https://localhost:8080/"
        }
      },
      "execution_count": 89,
      "outputs": [
        {
          "output_type": "execute_result",
          "data": {
            "text/plain": [
              "array([[1, 1],\n",
              "       [2, 2],\n",
              "       [3, 3]])"
            ]
          },
          "metadata": {},
          "execution_count": 89
        }
      ]
    },
    {
      "cell_type": "code",
      "source": [
        "#TRANSPONIENDO C\n",
        "C.T"
      ],
      "metadata": {
        "id": "IPjzy3AK2AFZ",
        "outputId": "5779c3bc-b656-4ebd-9d3c-0141dc5a45a4",
        "colab": {
          "base_uri": "https://localhost:8080/"
        }
      },
      "execution_count": 90,
      "outputs": [
        {
          "output_type": "execute_result",
          "data": {
            "text/plain": [
              "array([[1, 2, 3],\n",
              "       [1, 2, 3]])"
            ]
          },
          "metadata": {},
          "execution_count": 90
        }
      ]
    },
    {
      "cell_type": "markdown",
      "source": [
        "Quiz de arrays 2D\n",
        "\n",
        "---\n",
        "\n"
      ],
      "metadata": {
        "id": "GAdTl8PC2Gdu"
      }
    },
    {
      "cell_type": "code",
      "source": [
        "#Convertir lista en array numpy \n",
        "a = [[1, 2, 3, 4], [5, 6, 7, 8], [9, 10, 11, 12]]\n",
        "A = np.array(a)\n",
        "A"
      ],
      "metadata": {
        "id": "R9Ea5Cd_2KXQ",
        "outputId": "590fd53b-b9e4-450c-9a97-cde261162a2b",
        "colab": {
          "base_uri": "https://localhost:8080/"
        }
      },
      "execution_count": 91,
      "outputs": [
        {
          "output_type": "execute_result",
          "data": {
            "text/plain": [
              "array([[ 1,  2,  3,  4],\n",
              "       [ 5,  6,  7,  8],\n",
              "       [ 9, 10, 11, 12]])"
            ]
          },
          "metadata": {},
          "execution_count": 91
        }
      ]
    },
    {
      "cell_type": "code",
      "source": [
        "#Calculando el tamaño\n",
        "A.size"
      ],
      "metadata": {
        "id": "64keZj992Wdc",
        "outputId": "f7e318c4-7b54-4dbd-f4f7-17aad36fd3fa",
        "colab": {
          "base_uri": "https://localhost:8080/"
        }
      },
      "execution_count": 92,
      "outputs": [
        {
          "output_type": "execute_result",
          "data": {
            "text/plain": [
              "12"
            ]
          },
          "metadata": {},
          "execution_count": 92
        }
      ]
    },
    {
      "cell_type": "code",
      "source": [
        "#Accediendo al primer renglon segunda columna\n",
        "A[0][0:2]"
      ],
      "metadata": {
        "id": "6u8z4X7s2ejP",
        "outputId": "dda13df8-cff8-4186-d6ff-7d2183b0ed1c",
        "colab": {
          "base_uri": "https://localhost:8080/"
        }
      },
      "execution_count": 93,
      "outputs": [
        {
          "output_type": "execute_result",
          "data": {
            "text/plain": [
              "array([1, 2])"
            ]
          },
          "metadata": {},
          "execution_count": 93
        }
      ]
    },
    {
      "cell_type": "code",
      "source": [
        "#Multiplicacion de matrices\n",
        "B = np.array([[0, 1], [1, 0], [1, 1], [-1, 0]])"
      ],
      "metadata": {
        "id": "tJ_O88EF2nHt"
      },
      "execution_count": 94,
      "outputs": []
    },
    {
      "cell_type": "code",
      "source": [
        "X = np.dot(A,B)\n",
        "X"
      ],
      "metadata": {
        "id": "DkFIQZX02ta-",
        "outputId": "1c96cbf9-e8e6-4c87-dc45-71d0f80e4df3",
        "colab": {
          "base_uri": "https://localhost:8080/"
        }
      },
      "execution_count": 95,
      "outputs": [
        {
          "output_type": "execute_result",
          "data": {
            "text/plain": [
              "array([[ 1,  4],\n",
              "       [ 5, 12],\n",
              "       [ 9, 20]])"
            ]
          },
          "metadata": {},
          "execution_count": 95
        }
      ]
    },
    {
      "cell_type": "markdown",
      "source": [
        "APIs\n",
        "\n",
        "---\n",
        "\n"
      ],
      "metadata": {
        "id": "XbJ-AAj-4eSO"
      }
    },
    {
      "cell_type": "code",
      "source": [
        "#Request en Python\n",
        "import requests\n",
        "import os \n",
        "from PIL import Image\n",
        "from IPython.display import IFrame"
      ],
      "metadata": {
        "id": "lMc9nvpx44_x"
      },
      "execution_count": 96,
      "outputs": []
    },
    {
      "cell_type": "code",
      "source": [
        "url='https://www.ibm.com/'\n",
        "r=requests.get(url)\n"
      ],
      "metadata": {
        "id": "FoO7sb8M5D3p"
      },
      "execution_count": 97,
      "outputs": []
    },
    {
      "cell_type": "code",
      "source": [
        "#Verificando el status code\n",
        "r.status_code"
      ],
      "metadata": {
        "id": "eCInCxLP5IbF",
        "outputId": "795d8788-10b4-4d0d-8788-f6bf6a6eab25",
        "colab": {
          "base_uri": "https://localhost:8080/"
        }
      },
      "execution_count": 98,
      "outputs": [
        {
          "output_type": "execute_result",
          "data": {
            "text/plain": [
              "200"
            ]
          },
          "metadata": {},
          "execution_count": 98
        }
      ]
    },
    {
      "cell_type": "code",
      "source": [
        "#Revisando request headers\n",
        "print(r.request.headers)"
      ],
      "metadata": {
        "id": "sQBdvc1u5M34",
        "outputId": "e7bec361-2a01-4fdf-9c40-ba76c12ed21c",
        "colab": {
          "base_uri": "https://localhost:8080/"
        }
      },
      "execution_count": 99,
      "outputs": [
        {
          "output_type": "stream",
          "name": "stdout",
          "text": [
            "{'User-Agent': 'python-requests/2.23.0', 'Accept-Encoding': 'gzip, deflate', 'Accept': '*/*', 'Connection': 'keep-alive', 'Cookie': '_abck=F9C9ECDF2339A3056FD9254F34793BB2~-1~YAAQyhwhF37qeZ+DAQAAeF3koAigynF8wTEiaz0Vla85/wTXkErLd/q9kqNASZpWHygLufeIMMVsCddqlDNkkjGzn4AI9U6aJZqf0nrhIyNHK1trkgpPOEFE0Pbv4/lA/saYNXMRODHCPK9F276dKTjtKY+TpsxHFfS0U/Ir4mpkjedtvVQBJffX0umkRvqWrvy0wLQTE195jzPbe1XNxwTIS+7XveYyWlglKsXheA2Wk6jzOTxqUZFQghWKBVPWit/h+TOAQHXj5NMamb9xt9lqSki0u9OtlMIPwHnzPswkzIYWvsls8m1LGi2ZlEPLFmX/W/nFDnmKBVyCic3+MHFpgicw+RJ5aj5oDBAXen3I3fA875E=~-1~-1~-1; bm_sz=43A13C600974724A36C2606228848F61~YAAQyhwhF3/qeZ+DAQAAeF3koBH1FheSrkmPyllWi3ljndfXqTwNDzn/VSArPpG5o2T68ol3Hz7Da/yhFXK51Wj2jtFuNJE5rkuLMeJ446WhILmLzEGf7EUqyeNKbgG6uzx/gurCA3TEeU7+ikNOM3EMYxqU58z5OEko189SwTew1yZOQ8QomXAKXSFnJ2rxV1jxBqsrRHlPFypU2Jw7jD6hl6TEyMQyMKruzRmK7GN3woHZIawCrqPXna/3fCSiChuKOElMjT24fomzlx1hexZK11fXzh8+amgtTbAZJ2o=~4535366~4539449'}\n"
          ]
        }
      ]
    },
    {
      "cell_type": "code",
      "source": [
        "print(\"request body:\", r.request.body)"
      ],
      "metadata": {
        "id": "aYCOLFXB5Rzu",
        "outputId": "6315a24c-d01b-4fa0-b0d7-d81fcaac5779",
        "colab": {
          "base_uri": "https://localhost:8080/"
        }
      },
      "execution_count": 100,
      "outputs": [
        {
          "output_type": "stream",
          "name": "stdout",
          "text": [
            "request body: None\n"
          ]
        }
      ]
    },
    {
      "cell_type": "code",
      "source": [
        "#Obteniendo la respuesta HTTP\n",
        "header=r.headers\n",
        "print(r.headers)"
      ],
      "metadata": {
        "id": "rr9MwTrC5ZlN",
        "outputId": "25cb6c57-dd4a-4031-846a-0b36616ae5ba",
        "colab": {
          "base_uri": "https://localhost:8080/"
        }
      },
      "execution_count": 101,
      "outputs": [
        {
          "output_type": "stream",
          "name": "stdout",
          "text": [
            "{'Server': 'Apache', 'Last-Modified': 'Mon, 03 Oct 2022 12:34:16 GMT', 'ETag': '\"17fce-5ea208fcd503e-gzip\"', 'Accept-Ranges': 'bytes', 'Content-Encoding': 'gzip', 'Content-Type': 'text/html', 'Cache-Control': 'max-age=3600', 'Expires': 'Tue, 04 Oct 2022 03:47:44 GMT', 'X-Akamai-Transformed': '9 21227 0 pmb=mTOE,2', 'Date': 'Tue, 04 Oct 2022 02:47:44 GMT', 'Content-Length': '21404', 'Connection': 'keep-alive', 'Vary': 'Accept-Encoding', 'x-content-type-options': 'nosniff', 'X-XSS-Protection': '1; mode=block', 'Content-Security-Policy': 'upgrade-insecure-requests', 'Strict-Transport-Security': 'max-age=31536000'}\n"
          ]
        }
      ]
    },
    {
      "cell_type": "code",
      "source": [
        "header['date']"
      ],
      "metadata": {
        "id": "WRobNHr15hE6",
        "outputId": "a65a5196-8304-4432-9888-6055bca9a21d",
        "colab": {
          "base_uri": "https://localhost:8080/",
          "height": 36
        }
      },
      "execution_count": 102,
      "outputs": [
        {
          "output_type": "execute_result",
          "data": {
            "text/plain": [
              "'Tue, 04 Oct 2022 02:47:44 GMT'"
            ],
            "application/vnd.google.colaboratory.intrinsic+json": {
              "type": "string"
            }
          },
          "metadata": {},
          "execution_count": 102
        }
      ]
    },
    {
      "cell_type": "code",
      "source": [
        "header['Content-Type']"
      ],
      "metadata": {
        "id": "r39ZqzMu5iyM",
        "outputId": "352ea184-43bc-46ea-d0b3-14ef928b5704",
        "colab": {
          "base_uri": "https://localhost:8080/",
          "height": 36
        }
      },
      "execution_count": 103,
      "outputs": [
        {
          "output_type": "execute_result",
          "data": {
            "text/plain": [
              "'text/html'"
            ],
            "application/vnd.google.colaboratory.intrinsic+json": {
              "type": "string"
            }
          },
          "metadata": {},
          "execution_count": 103
        }
      ]
    },
    {
      "cell_type": "code",
      "source": [
        "#Verificando el encoding\n",
        "r.text[0:100]"
      ],
      "metadata": {
        "id": "GEeDx5YD5mpC",
        "outputId": "5f014b1f-2b62-4ea0-94c3-f79c7ab8eaac",
        "colab": {
          "base_uri": "https://localhost:8080/",
          "height": 53
        }
      },
      "execution_count": 105,
      "outputs": [
        {
          "output_type": "execute_result",
          "data": {
            "text/plain": [
              "'<!DOCTYPE html><html lang=\"en-US\"><head><meta name=\"viewport\" content=\"width=device-width\"/><meta ch'"
            ],
            "application/vnd.google.colaboratory.intrinsic+json": {
              "type": "string"
            }
          },
          "metadata": {},
          "execution_count": 105
        }
      ]
    },
    {
      "cell_type": "code",
      "source": [
        "#Subiendo otro tipo de archivos como imagenes\n",
        "url='https://cf-courses-data.s3.us.cloud-object-storage.appdomain.cloud/IBMDeveloperSkillsNetwork-PY0101EN-SkillsNetwork/IDSNlogo.png'"
      ],
      "metadata": {
        "id": "_KMbm5kY5xhA"
      },
      "execution_count": 106,
      "outputs": []
    },
    {
      "cell_type": "code",
      "source": [
        "#Headers\n",
        "print(r.headers)"
      ],
      "metadata": {
        "id": "bpbNN2FV56tQ",
        "outputId": "fd6622ad-87b7-4970-c16b-2beb5c335103",
        "colab": {
          "base_uri": "https://localhost:8080/"
        }
      },
      "execution_count": 108,
      "outputs": [
        {
          "output_type": "stream",
          "name": "stdout",
          "text": [
            "{'Date': 'Tue, 04 Oct 2022 02:51:09 GMT', 'X-Clv-Request-Id': '29878ccb-444f-4aed-a468-03cceabf618d', 'Server': 'Cleversafe', 'X-Clv-S3-Version': '2.5', 'Accept-Ranges': 'bytes', 'x-amz-request-id': '29878ccb-444f-4aed-a468-03cceabf618d', 'Cache-Control': 'max-age=0,public', 'ETag': '\"a831e767d02efd21b904ec485ac0c769\"', 'Content-Type': 'image/png', 'Last-Modified': 'Wed, 14 Sep 2022 05:47:46 GMT', 'Content-Length': '21590'}\n"
          ]
        }
      ]
    },
    {
      "cell_type": "code",
      "source": [
        "r=requests.get(url)"
      ],
      "metadata": {
        "id": "62aB56pB53og"
      },
      "execution_count": 107,
      "outputs": []
    },
    {
      "cell_type": "code",
      "source": [
        "#Obteniendo el tipo \n",
        "r.headers['Content-Type']"
      ],
      "metadata": {
        "id": "CMy-zHmr6Ao6",
        "outputId": "3d9dcd50-0146-4a17-f6b8-1c064cad2854",
        "colab": {
          "base_uri": "https://localhost:8080/",
          "height": 36
        }
      },
      "execution_count": 109,
      "outputs": [
        {
          "output_type": "execute_result",
          "data": {
            "text/plain": [
              "'image/png'"
            ],
            "application/vnd.google.colaboratory.intrinsic+json": {
              "type": "string"
            }
          },
          "metadata": {},
          "execution_count": 109
        }
      ]
    },
    {
      "cell_type": "code",
      "source": [
        "path=os.path.join(os.getcwd(),'image.png')\n",
        "path"
      ],
      "metadata": {
        "id": "806n2txp6JA9",
        "outputId": "6aceed8b-24cc-4d14-f564-6731880001be",
        "colab": {
          "base_uri": "https://localhost:8080/",
          "height": 36
        }
      },
      "execution_count": 110,
      "outputs": [
        {
          "output_type": "execute_result",
          "data": {
            "text/plain": [
              "'/content/image.png'"
            ],
            "application/vnd.google.colaboratory.intrinsic+json": {
              "type": "string"
            }
          },
          "metadata": {},
          "execution_count": 110
        }
      ]
    },
    {
      "cell_type": "code",
      "source": [
        "#Guardando el archivo\n",
        "with open(path,'wb') as f:\n",
        "    f.write(r.content)"
      ],
      "metadata": {
        "id": "wvS0KIlU6NUu"
      },
      "execution_count": 111,
      "outputs": []
    },
    {
      "cell_type": "code",
      "source": [
        "#Viendo la imagen \n",
        "Image.open(path)  "
      ],
      "metadata": {
        "id": "mghW18Vg6RHg",
        "outputId": "15e1ebb3-ac13-4287-f814-4054a2858392",
        "colab": {
          "base_uri": "https://localhost:8080/",
          "height": 662
        }
      },
      "execution_count": 112,
      "outputs": [
        {
          "output_type": "execute_result",
          "data": {
            "text/plain": [
              "<PIL.PngImagePlugin.PngImageFile image mode=P size=800x800 at 0x7F919D2F3910>"
            ],
            "image/png": "[encoded data removed]"
          },
          "metadata": {},
          "execution_count": 112
        }
      ]
    },
    {
      "cell_type": "code",
      "source": [
        "url='https://cf-courses-data.s3.us.cloud-object-storage.appdomain.cloud/IBMDeveloperSkillsNetwork-PY0101EN-SkillsNetwork/labs/Module%205/data/Example1.txt'\n",
        "path=os.path.join(os.getcwd(),'example1.txt')\n",
        "r=requests.get(url)\n",
        "with open(path,'wb') as f:\n",
        "    f.write(r.content)"
      ],
      "metadata": {
        "id": "2rpkB5oQ6Wmv"
      },
      "execution_count": 113,
      "outputs": []
    },
    {
      "cell_type": "code",
      "source": [
        "#Get request with URL Parameters\n",
        "url_get='http://httpbin.org/get'"
      ],
      "metadata": {
        "id": "jipPX7J96kxN"
      },
      "execution_count": 114,
      "outputs": []
    },
    {
      "cell_type": "code",
      "source": [
        "#Creando una cadena Query \n",
        "payload={\"name\":\"Joseph\",\"ID\":\"123\"}"
      ],
      "metadata": {
        "id": "NnyebDQL6uDt"
      },
      "execution_count": 115,
      "outputs": []
    },
    {
      "cell_type": "code",
      "source": [
        "r=requests.get(url_get,params=payload)"
      ],
      "metadata": {
        "id": "tF59Fk7g6zum"
      },
      "execution_count": 116,
      "outputs": []
    },
    {
      "cell_type": "code",
      "source": [
        "#imprimiendo los valores de url \n",
        "r.url"
      ],
      "metadata": {
        "id": "xCmd1egX62nJ",
        "outputId": "9fcede74-caad-4ad5-da37-e3fcd8678492",
        "colab": {
          "base_uri": "https://localhost:8080/",
          "height": 36
        }
      },
      "execution_count": 117,
      "outputs": [
        {
          "output_type": "execute_result",
          "data": {
            "text/plain": [
              "'http://httpbin.org/get?name=Joseph&ID=123'"
            ],
            "application/vnd.google.colaboratory.intrinsic+json": {
              "type": "string"
            }
          },
          "metadata": {},
          "execution_count": 117
        }
      ]
    },
    {
      "cell_type": "code",
      "source": [
        "#Request body \n",
        "print(\"request body:\", r.request.body)"
      ],
      "metadata": {
        "id": "uR4WAEJi67IS",
        "outputId": "38f90f30-a8f7-4905-b486-dfe9c966e959",
        "colab": {
          "base_uri": "https://localhost:8080/"
        }
      },
      "execution_count": 118,
      "outputs": [
        {
          "output_type": "stream",
          "name": "stdout",
          "text": [
            "request body: None\n"
          ]
        }
      ]
    },
    {
      "cell_type": "code",
      "source": [
        "#Imprimiendo el status \n",
        "print(r.status_code)"
      ],
      "metadata": {
        "id": "v8R48BYt6_Uk",
        "outputId": "c675ca00-7919-442d-f7b8-faa65d003712",
        "colab": {
          "base_uri": "https://localhost:8080/"
        }
      },
      "execution_count": 119,
      "outputs": [
        {
          "output_type": "stream",
          "name": "stdout",
          "text": [
            "200\n"
          ]
        }
      ]
    },
    {
      "cell_type": "code",
      "source": [
        "#Imprimiendo el tipo de dato \n",
        "r.headers['Content-Type']"
      ],
      "metadata": {
        "id": "5jOFWDPY7EpC",
        "outputId": "c8d69c3c-7d60-46b5-fe72-35335b233eff",
        "colab": {
          "base_uri": "https://localhost:8080/",
          "height": 36
        }
      },
      "execution_count": 120,
      "outputs": [
        {
          "output_type": "execute_result",
          "data": {
            "text/plain": [
              "'application/json'"
            ],
            "application/vnd.google.colaboratory.intrinsic+json": {
              "type": "string"
            }
          },
          "metadata": {},
          "execution_count": 120
        }
      ]
    },
    {
      "cell_type": "code",
      "source": [
        "#Como esta en json podemos usar json() para obtener un dict de python\n",
        "r.json()"
      ],
      "metadata": {
        "id": "nGw5bRCc7KJk",
        "outputId": "7190010e-61fb-4624-f584-a62629781dbe",
        "colab": {
          "base_uri": "https://localhost:8080/"
        }
      },
      "execution_count": 121,
      "outputs": [
        {
          "output_type": "execute_result",
          "data": {
            "text/plain": [
              "{'args': {'ID': '123', 'name': 'Joseph'},\n",
              " 'headers': {'Accept': '*/*',\n",
              "  'Accept-Encoding': 'gzip, deflate',\n",
              "  'Host': 'httpbin.org',\n",
              "  'User-Agent': 'python-requests/2.23.0',\n",
              "  'X-Amzn-Trace-Id': 'Root=1-633ba094-01d722b358198fb405f0a399'},\n",
              " 'origin': '34.66.219.42',\n",
              " 'url': 'http://httpbin.org/get?name=Joseph&ID=123'}"
            ]
          },
          "metadata": {},
          "execution_count": 121
        }
      ]
    },
    {
      "cell_type": "code",
      "source": [
        "#Obteniendo los args\n",
        "r.json()['args']"
      ],
      "metadata": {
        "id": "sRlC-NpJ7Sr9",
        "outputId": "365dd9ba-6597-4552-81fc-34925258f0aa",
        "colab": {
          "base_uri": "https://localhost:8080/"
        }
      },
      "execution_count": 123,
      "outputs": [
        {
          "output_type": "execute_result",
          "data": {
            "text/plain": [
              "{'ID': '123', 'name': 'Joseph'}"
            ]
          },
          "metadata": {},
          "execution_count": 123
        }
      ]
    },
    {
      "cell_type": "markdown",
      "source": [
        "Post request\n",
        "\n",
        "---\n",
        "\n"
      ],
      "metadata": {
        "id": "uhiL6abl8o7M"
      }
    }
  ]
}