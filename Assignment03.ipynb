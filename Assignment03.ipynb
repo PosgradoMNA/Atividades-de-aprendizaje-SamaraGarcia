{
  "nbformat": 4,
  "nbformat_minor": 0,
  "metadata": {
    "colab": {
      "provenance": [],
      "authorship_tag": "ABX9TyPJP370pUVUyR6v8QufQbyB",
      "include_colab_link": true
    },
    "kernelspec": {
      "name": "python3",
      "display_name": "Python 3"
    },
    "language_info": {
      "name": "python"
    }
  },
  "cells": [
    {
      "cell_type": "markdown",
      "metadata": {
        "id": "view-in-github",
        "colab_type": "text"
      },
      "source": [
        "<a href=\"https://colab.research.google.com/github/PosgradoMNA/Atividades-de-aprendizaje-SamaraGarcia/blob/main/Assignment03.ipynb\" target=\"_parent\"><img src=\"https://colab.research.google.com/assets/colab-badge.svg\" alt=\"Open In Colab\"/></a>"
      ]
    },
    {
      "cell_type": "markdown",
      "source": [
        "\n",
        "Actividad 4 Python Samara García González A0123001\n"
      ],
      "metadata": {
        "id": "qFBqk2X9ldwq"
      }
    },
    {
      "cell_type": "markdown",
      "source": [
        "**Asigment Python for Data Science**"
      ],
      "metadata": {
        "id": "zyImBrazlo3s"
      }
    },
    {
      "cell_type": "markdown",
      "source": [
        "\n",
        "**Módulo 5**\n",
        "\n",
        "---\n",
        "\n"
      ],
      "metadata": {
        "id": "fzuj7kcwlssw"
      }
    },
    {
      "cell_type": "code",
      "source": [
        "#Módulo5: Learning Objectives\n",
        "#Explain the use of the HTTP protocol using the Requests Library method\n",
        "#Describe how the URL Request Response HTTP protocol works\n",
        "#Learn to apply simple, open-source APIs\n",
        "#Perform basic webscraping using Python\n",
        "#Work with different file formats using Python\n",
        "#Explain the difference between APIs and REST APIs\n",
        "#Summarize how APIs receive and send information"
      ],
      "metadata": {
        "id": "eV0Z6e9SlvMM"
      },
      "execution_count": null,
      "outputs": []
    },
    {
      "cell_type": "code",
      "source": [
        "import numpy as np\n",
        "np.array([1,-1])*np.array([1,1])"
      ],
      "metadata": {
        "colab": {
          "base_uri": "https://localhost:8080/"
        },
        "id": "CC2iikRllxa7",
        "outputId": "ed49d303-3b0a-4ca9-c03d-ad121efa5cfc"
      },
      "execution_count": 2,
      "outputs": [
        {
          "output_type": "execute_result",
          "data": {
            "text/plain": [
              "array([ 1, -1])"
            ]
          },
          "metadata": {},
          "execution_count": 2
        }
      ]
    },
    {
      "cell_type": "code",
      "source": [
        "np.dot(np.array([1,-1]),np.array([1,1]))"
      ],
      "metadata": {
        "colab": {
          "base_uri": "https://localhost:8080/"
        },
        "id": "7yM7yO4PnrsB",
        "outputId": "1e8298ac-5335-4234-873d-f363e5051cd2"
      },
      "execution_count": 3,
      "outputs": [
        {
          "output_type": "execute_result",
          "data": {
            "text/plain": [
              "0"
            ]
          },
          "metadata": {},
          "execution_count": 3
        }
      ]
    },
    {
      "cell_type": "markdown",
      "source": [
        "**Lab - Working with 1D Numpy Arrays **"
      ],
      "metadata": {
        "id": "gHUI3yfsoA8F"
      }
    },
    {
      "cell_type": "code",
      "source": [
        "#Creando una lista en python\n",
        "b =  [\"0\", 1, \"dos\", \"3\", 4]"
      ],
      "metadata": {
        "id": "f82K7rZvoFbt"
      },
      "execution_count": 5,
      "outputs": []
    },
    {
      "cell_type": "code",
      "source": [
        "#Imprimiendo cada uno de los elementos\n",
        "print(\"b[0]: \", b[0])\n",
        "print(\"b[1]: \", b[1])\n",
        "print(\"b[2]: \", b[2])\n",
        "print(\"b[3]: \", b[3])\n",
        "print(\"b[4]: \", b[4])"
      ],
      "metadata": {
        "colab": {
          "base_uri": "https://localhost:8080/"
        },
        "id": "rydKk_zJorF_",
        "outputId": "5b0f2c71-1cbb-46fb-f689-2f9d18dd6854"
      },
      "execution_count": 6,
      "outputs": [
        {
          "output_type": "stream",
          "name": "stdout",
          "text": [
            "b[0]:  0\n",
            "b[1]:  1\n",
            "b[2]:  dos\n",
            "b[3]:  3\n",
            "b[4]:  4\n"
          ]
        }
      ]
    },
    {
      "cell_type": "code",
      "source": [
        "#Creando un array de numpy \n",
        "\n",
        "a = np.array([0, 1, 2, 3, 4])\n",
        "a"
      ],
      "metadata": {
        "colab": {
          "base_uri": "https://localhost:8080/"
        },
        "id": "R2YIwhgXo-CN",
        "outputId": "77a72377-8845-4291-d7e0-1fb201a4fb3e"
      },
      "execution_count": 7,
      "outputs": [
        {
          "output_type": "execute_result",
          "data": {
            "text/plain": [
              "array([0, 1, 2, 3, 4])"
            ]
          },
          "metadata": {},
          "execution_count": 7
        }
      ]
    },
    {
      "cell_type": "code",
      "source": [
        "#Imprimiendo cada elemento \n",
        "print(\"a[0]:\", a[0])\n",
        "print(\"a[1]:\", a[1])\n",
        "print(\"a[2]:\", a[2])\n",
        "print(\"a[3]:\", a[3])\n",
        "print(\"a[4]:\", a[4])"
      ],
      "metadata": {
        "colab": {
          "base_uri": "https://localhost:8080/"
        },
        "id": "P4iZf5GpqSiu",
        "outputId": "30953123-4f70-422b-a8f1-d2d68748c34e"
      },
      "execution_count": 8,
      "outputs": [
        {
          "output_type": "stream",
          "name": "stdout",
          "text": [
            "a[0]: 0\n",
            "a[1]: 1\n",
            "a[2]: 2\n",
            "a[3]: 3\n",
            "a[4]: 4\n"
          ]
        }
      ]
    }
  ]
}