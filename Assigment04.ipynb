{
  "nbformat": 4,
  "nbformat_minor": 0,
  "metadata": {
    "colab": {
      "provenance": [],
      "authorship_tag": "ABX9TyMqrNRhokmHfCiIH5oLtlNR",
      "include_colab_link": true
    },
    "kernelspec": {
      "name": "python3",
      "display_name": "Python 3"
    },
    "language_info": {
      "name": "python"
    }
  },
  "cells": [
    {
      "cell_type": "markdown",
      "metadata": {
        "id": "view-in-github",
        "colab_type": "text"
      },
      "source": [
        "<a href=\"https://colab.research.google.com/github/PosgradoMNA/Atividades-de-aprendizaje-SamaraGarcia/blob/main/Assigment04.ipynb\" target=\"_parent\"><img src=\"https://colab.research.google.com/assets/colab-badge.svg\" alt=\"Open In Colab\"/></a>"
      ]
    },
    {
      "cell_type": "markdown",
      "source": [
        "Actividad 1 Python Samara García González A0123001"
      ],
      "metadata": {
        "id": "eP3DgJSZ5ntq"
      }
    },
    {
      "cell_type": "markdown",
      "source": [
        "**Asigment04 Python for Data Science**"
      ],
      "metadata": {
        "id": "vdwU9hgs5sVS"
      }
    },
    {
      "cell_type": "markdown",
      "source": [
        "**Módulo1**\n",
        "\n",
        "---"
      ],
      "metadata": {
        "id": "cvhspXej5xXG"
      }
    },
    {
      "cell_type": "code",
      "source": [
        "#Módulo1: Learning Objectives\n",
        "#Introduction to Data Analysis with Python\n",
        "#Understanding the Data \n",
        "#Importing and Exporting Data in Python \n",
        "#Getting Started Analyzing Data in Python "
      ],
      "metadata": {
        "id": "kUh69tis52Mp"
      },
      "execution_count": null,
      "outputs": []
    },
    {
      "cell_type": "markdown",
      "source": [],
      "metadata": {
        "id": "GPzF1Rua6M5v"
      }
    }
  ]
}